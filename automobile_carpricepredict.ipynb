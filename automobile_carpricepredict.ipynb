{
 "cells": [
  {
   "cell_type": "code",
   "execution_count": 1,
   "metadata": {},
   "outputs": [],
   "source": [
    "#Call Basic Libraries\n",
    "import numpy as np\n",
    "import pandas as pd\n",
    "import matplotlib.pyplot as plt\n",
    "import seaborn as sns\n",
    "import warnings\n",
    "warnings.filterwarnings('ignore')"
   ]
  },
  {
   "cell_type": "code",
   "execution_count": 2,
   "metadata": {},
   "outputs": [],
   "source": [
    "#upload the dataset\n",
    "df=pd.read_csv('Automobile_data.csv')"
   ]
  },
  {
   "cell_type": "code",
   "execution_count": 3,
   "metadata": {},
   "outputs": [
    {
     "data": {
      "text/plain": [
       "(205, 15)"
      ]
     },
     "execution_count": 3,
     "metadata": {},
     "output_type": "execute_result"
    }
   ],
   "source": [
    "df.shape"
   ]
  },
  {
   "cell_type": "code",
   "execution_count": 4,
   "metadata": {},
   "outputs": [
    {
     "data": {
      "text/html": [
       "<div>\n",
       "<style scoped>\n",
       "    .dataframe tbody tr th:only-of-type {\n",
       "        vertical-align: middle;\n",
       "    }\n",
       "\n",
       "    .dataframe tbody tr th {\n",
       "        vertical-align: top;\n",
       "    }\n",
       "\n",
       "    .dataframe thead th {\n",
       "        text-align: right;\n",
       "    }\n",
       "</style>\n",
       "<table border=\"1\" class=\"dataframe\">\n",
       "  <thead>\n",
       "    <tr style=\"text-align: right;\">\n",
       "      <th></th>\n",
       "      <th>symboling</th>\n",
       "      <th>normalized-losses</th>\n",
       "      <th>make</th>\n",
       "      <th>fuel-type</th>\n",
       "      <th>body-style</th>\n",
       "      <th>drive-wheels</th>\n",
       "      <th>engine-location</th>\n",
       "      <th>width</th>\n",
       "      <th>height</th>\n",
       "      <th>engine-type</th>\n",
       "      <th>engine-size</th>\n",
       "      <th>horsepower</th>\n",
       "      <th>city-mpg</th>\n",
       "      <th>highway-mpg</th>\n",
       "      <th>price</th>\n",
       "    </tr>\n",
       "  </thead>\n",
       "  <tbody>\n",
       "    <tr>\n",
       "      <th>0</th>\n",
       "      <td>3</td>\n",
       "      <td>?</td>\n",
       "      <td>alfa-romero</td>\n",
       "      <td>gas</td>\n",
       "      <td>convertible</td>\n",
       "      <td>rwd</td>\n",
       "      <td>front</td>\n",
       "      <td>64.1</td>\n",
       "      <td>48.8</td>\n",
       "      <td>dohc</td>\n",
       "      <td>130</td>\n",
       "      <td>111</td>\n",
       "      <td>21</td>\n",
       "      <td>27</td>\n",
       "      <td>13495</td>\n",
       "    </tr>\n",
       "    <tr>\n",
       "      <th>1</th>\n",
       "      <td>3</td>\n",
       "      <td>?</td>\n",
       "      <td>alfa-romero</td>\n",
       "      <td>gas</td>\n",
       "      <td>convertible</td>\n",
       "      <td>rwd</td>\n",
       "      <td>front</td>\n",
       "      <td>64.1</td>\n",
       "      <td>48.8</td>\n",
       "      <td>dohc</td>\n",
       "      <td>130</td>\n",
       "      <td>111</td>\n",
       "      <td>21</td>\n",
       "      <td>27</td>\n",
       "      <td>16500</td>\n",
       "    </tr>\n",
       "    <tr>\n",
       "      <th>2</th>\n",
       "      <td>1</td>\n",
       "      <td>?</td>\n",
       "      <td>alfa-romero</td>\n",
       "      <td>gas</td>\n",
       "      <td>hatchback</td>\n",
       "      <td>rwd</td>\n",
       "      <td>front</td>\n",
       "      <td>65.5</td>\n",
       "      <td>52.4</td>\n",
       "      <td>ohcv</td>\n",
       "      <td>152</td>\n",
       "      <td>154</td>\n",
       "      <td>19</td>\n",
       "      <td>26</td>\n",
       "      <td>16500</td>\n",
       "    </tr>\n",
       "    <tr>\n",
       "      <th>3</th>\n",
       "      <td>2</td>\n",
       "      <td>164</td>\n",
       "      <td>audi</td>\n",
       "      <td>gas</td>\n",
       "      <td>sedan</td>\n",
       "      <td>fwd</td>\n",
       "      <td>front</td>\n",
       "      <td>66.2</td>\n",
       "      <td>54.3</td>\n",
       "      <td>ohc</td>\n",
       "      <td>109</td>\n",
       "      <td>102</td>\n",
       "      <td>24</td>\n",
       "      <td>30</td>\n",
       "      <td>13950</td>\n",
       "    </tr>\n",
       "    <tr>\n",
       "      <th>4</th>\n",
       "      <td>2</td>\n",
       "      <td>164</td>\n",
       "      <td>audi</td>\n",
       "      <td>gas</td>\n",
       "      <td>sedan</td>\n",
       "      <td>4wd</td>\n",
       "      <td>front</td>\n",
       "      <td>66.4</td>\n",
       "      <td>54.3</td>\n",
       "      <td>ohc</td>\n",
       "      <td>136</td>\n",
       "      <td>115</td>\n",
       "      <td>18</td>\n",
       "      <td>22</td>\n",
       "      <td>17450</td>\n",
       "    </tr>\n",
       "  </tbody>\n",
       "</table>\n",
       "</div>"
      ],
      "text/plain": [
       "   symboling normalized-losses         make fuel-type   body-style  \\\n",
       "0          3                 ?  alfa-romero       gas  convertible   \n",
       "1          3                 ?  alfa-romero       gas  convertible   \n",
       "2          1                 ?  alfa-romero       gas    hatchback   \n",
       "3          2               164         audi       gas        sedan   \n",
       "4          2               164         audi       gas        sedan   \n",
       "\n",
       "  drive-wheels engine-location  width  height engine-type  engine-size  \\\n",
       "0          rwd           front   64.1    48.8        dohc          130   \n",
       "1          rwd           front   64.1    48.8        dohc          130   \n",
       "2          rwd           front   65.5    52.4        ohcv          152   \n",
       "3          fwd           front   66.2    54.3         ohc          109   \n",
       "4          4wd           front   66.4    54.3         ohc          136   \n",
       "\n",
       "  horsepower  city-mpg  highway-mpg  price  \n",
       "0        111        21           27  13495  \n",
       "1        111        21           27  16500  \n",
       "2        154        19           26  16500  \n",
       "3        102        24           30  13950  \n",
       "4        115        18           22  17450  "
      ]
     },
     "execution_count": 4,
     "metadata": {},
     "output_type": "execute_result"
    }
   ],
   "source": [
    "df.head()"
   ]
  },
  {
   "cell_type": "code",
   "execution_count": 5,
   "metadata": {},
   "outputs": [
    {
     "name": "stdout",
     "output_type": "stream",
     "text": [
      "<class 'pandas.core.frame.DataFrame'>\n",
      "RangeIndex: 205 entries, 0 to 204\n",
      "Data columns (total 15 columns):\n",
      " #   Column             Non-Null Count  Dtype  \n",
      "---  ------             --------------  -----  \n",
      " 0   symboling          205 non-null    int64  \n",
      " 1   normalized-losses  205 non-null    object \n",
      " 2   make               205 non-null    object \n",
      " 3   fuel-type          205 non-null    object \n",
      " 4   body-style         205 non-null    object \n",
      " 5   drive-wheels       205 non-null    object \n",
      " 6   engine-location    205 non-null    object \n",
      " 7   width              205 non-null    float64\n",
      " 8   height             205 non-null    float64\n",
      " 9   engine-type        205 non-null    object \n",
      " 10  engine-size        205 non-null    int64  \n",
      " 11  horsepower         205 non-null    object \n",
      " 12  city-mpg           205 non-null    int64  \n",
      " 13  highway-mpg        205 non-null    int64  \n",
      " 14  price              205 non-null    int64  \n",
      "dtypes: float64(2), int64(5), object(8)\n",
      "memory usage: 24.1+ KB\n"
     ]
    }
   ],
   "source": [
    "df.info()"
   ]
  },
  {
   "cell_type": "code",
   "execution_count": 6,
   "metadata": {},
   "outputs": [
    {
     "data": {
      "text/html": [
       "<div>\n",
       "<style scoped>\n",
       "    .dataframe tbody tr th:only-of-type {\n",
       "        vertical-align: middle;\n",
       "    }\n",
       "\n",
       "    .dataframe tbody tr th {\n",
       "        vertical-align: top;\n",
       "    }\n",
       "\n",
       "    .dataframe thead th {\n",
       "        text-align: right;\n",
       "    }\n",
       "</style>\n",
       "<table border=\"1\" class=\"dataframe\">\n",
       "  <thead>\n",
       "    <tr style=\"text-align: right;\">\n",
       "      <th></th>\n",
       "      <th>symboling</th>\n",
       "      <th>width</th>\n",
       "      <th>height</th>\n",
       "      <th>engine-size</th>\n",
       "      <th>city-mpg</th>\n",
       "      <th>highway-mpg</th>\n",
       "      <th>price</th>\n",
       "    </tr>\n",
       "  </thead>\n",
       "  <tbody>\n",
       "    <tr>\n",
       "      <th>symboling</th>\n",
       "      <td>1.000000</td>\n",
       "      <td>-0.232919</td>\n",
       "      <td>-0.541038</td>\n",
       "      <td>-0.105790</td>\n",
       "      <td>-0.035823</td>\n",
       "      <td>0.034606</td>\n",
       "      <td>-0.085781</td>\n",
       "    </tr>\n",
       "    <tr>\n",
       "      <th>width</th>\n",
       "      <td>-0.232919</td>\n",
       "      <td>1.000000</td>\n",
       "      <td>0.279210</td>\n",
       "      <td>0.735433</td>\n",
       "      <td>-0.642704</td>\n",
       "      <td>-0.677218</td>\n",
       "      <td>0.718253</td>\n",
       "    </tr>\n",
       "    <tr>\n",
       "      <th>height</th>\n",
       "      <td>-0.541038</td>\n",
       "      <td>0.279210</td>\n",
       "      <td>1.000000</td>\n",
       "      <td>0.067149</td>\n",
       "      <td>-0.048640</td>\n",
       "      <td>-0.107358</td>\n",
       "      <td>0.132444</td>\n",
       "    </tr>\n",
       "    <tr>\n",
       "      <th>engine-size</th>\n",
       "      <td>-0.105790</td>\n",
       "      <td>0.735433</td>\n",
       "      <td>0.067149</td>\n",
       "      <td>1.000000</td>\n",
       "      <td>-0.653658</td>\n",
       "      <td>-0.677470</td>\n",
       "      <td>0.852995</td>\n",
       "    </tr>\n",
       "    <tr>\n",
       "      <th>city-mpg</th>\n",
       "      <td>-0.035823</td>\n",
       "      <td>-0.642704</td>\n",
       "      <td>-0.048640</td>\n",
       "      <td>-0.653658</td>\n",
       "      <td>1.000000</td>\n",
       "      <td>0.971337</td>\n",
       "      <td>-0.654611</td>\n",
       "    </tr>\n",
       "    <tr>\n",
       "      <th>highway-mpg</th>\n",
       "      <td>0.034606</td>\n",
       "      <td>-0.677218</td>\n",
       "      <td>-0.107358</td>\n",
       "      <td>-0.677470</td>\n",
       "      <td>0.971337</td>\n",
       "      <td>1.000000</td>\n",
       "      <td>-0.679048</td>\n",
       "    </tr>\n",
       "    <tr>\n",
       "      <th>price</th>\n",
       "      <td>-0.085781</td>\n",
       "      <td>0.718253</td>\n",
       "      <td>0.132444</td>\n",
       "      <td>0.852995</td>\n",
       "      <td>-0.654611</td>\n",
       "      <td>-0.679048</td>\n",
       "      <td>1.000000</td>\n",
       "    </tr>\n",
       "  </tbody>\n",
       "</table>\n",
       "</div>"
      ],
      "text/plain": [
       "             symboling     width    height  engine-size  city-mpg  \\\n",
       "symboling     1.000000 -0.232919 -0.541038    -0.105790 -0.035823   \n",
       "width        -0.232919  1.000000  0.279210     0.735433 -0.642704   \n",
       "height       -0.541038  0.279210  1.000000     0.067149 -0.048640   \n",
       "engine-size  -0.105790  0.735433  0.067149     1.000000 -0.653658   \n",
       "city-mpg     -0.035823 -0.642704 -0.048640    -0.653658  1.000000   \n",
       "highway-mpg   0.034606 -0.677218 -0.107358    -0.677470  0.971337   \n",
       "price        -0.085781  0.718253  0.132444     0.852995 -0.654611   \n",
       "\n",
       "             highway-mpg     price  \n",
       "symboling       0.034606 -0.085781  \n",
       "width          -0.677218  0.718253  \n",
       "height         -0.107358  0.132444  \n",
       "engine-size    -0.677470  0.852995  \n",
       "city-mpg        0.971337 -0.654611  \n",
       "highway-mpg     1.000000 -0.679048  \n",
       "price          -0.679048  1.000000  "
      ]
     },
     "execution_count": 6,
     "metadata": {},
     "output_type": "execute_result"
    }
   ],
   "source": [
    "df.corr()"
   ]
  },
  {
   "cell_type": "code",
   "execution_count": 7,
   "metadata": {},
   "outputs": [],
   "source": [
    "catdf=df.select_dtypes(object)"
   ]
  },
  {
   "cell_type": "code",
   "execution_count": 8,
   "metadata": {},
   "outputs": [
    {
     "data": {
      "text/plain": [
       "(205, 8)"
      ]
     },
     "execution_count": 8,
     "metadata": {},
     "output_type": "execute_result"
    }
   ],
   "source": [
    "catdf.shape"
   ]
  },
  {
   "cell_type": "code",
   "execution_count": 9,
   "metadata": {},
   "outputs": [
    {
     "data": {
      "text/html": [
       "<div>\n",
       "<style scoped>\n",
       "    .dataframe tbody tr th:only-of-type {\n",
       "        vertical-align: middle;\n",
       "    }\n",
       "\n",
       "    .dataframe tbody tr th {\n",
       "        vertical-align: top;\n",
       "    }\n",
       "\n",
       "    .dataframe thead th {\n",
       "        text-align: right;\n",
       "    }\n",
       "</style>\n",
       "<table border=\"1\" class=\"dataframe\">\n",
       "  <thead>\n",
       "    <tr style=\"text-align: right;\">\n",
       "      <th></th>\n",
       "      <th>normalized-losses</th>\n",
       "      <th>make</th>\n",
       "      <th>fuel-type</th>\n",
       "      <th>body-style</th>\n",
       "      <th>drive-wheels</th>\n",
       "      <th>engine-location</th>\n",
       "      <th>engine-type</th>\n",
       "      <th>horsepower</th>\n",
       "    </tr>\n",
       "  </thead>\n",
       "  <tbody>\n",
       "    <tr>\n",
       "      <th>0</th>\n",
       "      <td>?</td>\n",
       "      <td>alfa-romero</td>\n",
       "      <td>gas</td>\n",
       "      <td>convertible</td>\n",
       "      <td>rwd</td>\n",
       "      <td>front</td>\n",
       "      <td>dohc</td>\n",
       "      <td>111</td>\n",
       "    </tr>\n",
       "    <tr>\n",
       "      <th>1</th>\n",
       "      <td>?</td>\n",
       "      <td>alfa-romero</td>\n",
       "      <td>gas</td>\n",
       "      <td>convertible</td>\n",
       "      <td>rwd</td>\n",
       "      <td>front</td>\n",
       "      <td>dohc</td>\n",
       "      <td>111</td>\n",
       "    </tr>\n",
       "    <tr>\n",
       "      <th>2</th>\n",
       "      <td>?</td>\n",
       "      <td>alfa-romero</td>\n",
       "      <td>gas</td>\n",
       "      <td>hatchback</td>\n",
       "      <td>rwd</td>\n",
       "      <td>front</td>\n",
       "      <td>ohcv</td>\n",
       "      <td>154</td>\n",
       "    </tr>\n",
       "    <tr>\n",
       "      <th>3</th>\n",
       "      <td>164</td>\n",
       "      <td>audi</td>\n",
       "      <td>gas</td>\n",
       "      <td>sedan</td>\n",
       "      <td>fwd</td>\n",
       "      <td>front</td>\n",
       "      <td>ohc</td>\n",
       "      <td>102</td>\n",
       "    </tr>\n",
       "    <tr>\n",
       "      <th>4</th>\n",
       "      <td>164</td>\n",
       "      <td>audi</td>\n",
       "      <td>gas</td>\n",
       "      <td>sedan</td>\n",
       "      <td>4wd</td>\n",
       "      <td>front</td>\n",
       "      <td>ohc</td>\n",
       "      <td>115</td>\n",
       "    </tr>\n",
       "  </tbody>\n",
       "</table>\n",
       "</div>"
      ],
      "text/plain": [
       "  normalized-losses         make fuel-type   body-style drive-wheels  \\\n",
       "0                 ?  alfa-romero       gas  convertible          rwd   \n",
       "1                 ?  alfa-romero       gas  convertible          rwd   \n",
       "2                 ?  alfa-romero       gas    hatchback          rwd   \n",
       "3               164         audi       gas        sedan          fwd   \n",
       "4               164         audi       gas        sedan          4wd   \n",
       "\n",
       "  engine-location engine-type horsepower  \n",
       "0           front        dohc        111  \n",
       "1           front        dohc        111  \n",
       "2           front        ohcv        154  \n",
       "3           front         ohc        102  \n",
       "4           front         ohc        115  "
      ]
     },
     "execution_count": 9,
     "metadata": {},
     "output_type": "execute_result"
    }
   ],
   "source": [
    "catdf.head()"
   ]
  },
  {
   "cell_type": "code",
   "execution_count": 10,
   "metadata": {
    "scrolled": false
   },
   "outputs": [
    {
     "name": "stdout",
     "output_type": "stream",
     "text": [
      "normalized-losses\n",
      "['?' '164' '158' '192' '188' '121' '98' '81' '118' '148' '110' '145' '137'\n",
      " '101' '78' '106' '85' '107' '104' '113' '150' '129' '115' '93' '142'\n",
      " '161' '153' '125' '128' '122' '103' '168' '108' '194' '231' '119' '154'\n",
      " '74' '186' '83' '102' '89' '87' '77' '91' '134' '65' '197' '90' '94'\n",
      " '256' '95']\n",
      "\n",
      "make\n",
      "['alfa-romero' 'audi' 'bmw' 'chevrolet' 'dodge' 'honda' 'isuzu' 'jaguar'\n",
      " 'mazda' 'mercedes-benz' 'mercury' 'mitsubishi' 'nissan' 'peugot'\n",
      " 'plymouth' 'porsche' 'renault' 'saab' 'subaru' 'toyota' 'volkswagen'\n",
      " 'volvo']\n",
      "\n",
      "fuel-type\n",
      "['gas' 'diesel']\n",
      "\n",
      "body-style\n",
      "['convertible' 'hatchback' 'sedan' 'wagon' 'hardtop']\n",
      "\n",
      "drive-wheels\n",
      "['rwd' 'fwd' '4wd']\n",
      "\n",
      "engine-location\n",
      "['front' 'rear']\n",
      "\n",
      "engine-type\n",
      "['dohc' 'ohcv' 'ohc' 'l' 'rotor' 'ohcf' 'dohcv']\n",
      "\n",
      "horsepower\n",
      "['111' '154' '102' '115' '110' '140' '160' '101' '121' '182' '48' '70'\n",
      " '68' '88' '145' '58' '76' '60' '86' '100' '78' '90' '176' '262' '135'\n",
      " '84' '64' '120' '72' '123' '155' '184' '175' '116' '69' '55' '97' '152'\n",
      " '200' '95' '142' '143' '207' '288' '?' '73' '82' '94' '62' '56' '112'\n",
      " '92' '161' '156' '52' '85' '114' '162' '134' '106']\n",
      "\n"
     ]
    }
   ],
   "source": [
    "for i in catdf:\n",
    "    print(i)\n",
    "    print(catdf[i].unique())\n",
    "    print()"
   ]
  },
  {
   "cell_type": "code",
   "execution_count": 11,
   "metadata": {},
   "outputs": [],
   "source": [
    "df['normalized-losses']=df['normalized-losses'].replace('?',np.nan)"
   ]
  },
  {
   "cell_type": "code",
   "execution_count": 12,
   "metadata": {},
   "outputs": [],
   "source": [
    "df['normalized-losses']=df['normalized-losses'].astype('float')"
   ]
  },
  {
   "cell_type": "code",
   "execution_count": 13,
   "metadata": {},
   "outputs": [
    {
     "name": "stdout",
     "output_type": "stream",
     "text": [
      "<class 'pandas.core.frame.DataFrame'>\n",
      "RangeIndex: 205 entries, 0 to 204\n",
      "Data columns (total 15 columns):\n",
      " #   Column             Non-Null Count  Dtype  \n",
      "---  ------             --------------  -----  \n",
      " 0   symboling          205 non-null    int64  \n",
      " 1   normalized-losses  164 non-null    float64\n",
      " 2   make               205 non-null    object \n",
      " 3   fuel-type          205 non-null    object \n",
      " 4   body-style         205 non-null    object \n",
      " 5   drive-wheels       205 non-null    object \n",
      " 6   engine-location    205 non-null    object \n",
      " 7   width              205 non-null    float64\n",
      " 8   height             205 non-null    float64\n",
      " 9   engine-type        205 non-null    object \n",
      " 10  engine-size        205 non-null    int64  \n",
      " 11  horsepower         205 non-null    object \n",
      " 12  city-mpg           205 non-null    int64  \n",
      " 13  highway-mpg        205 non-null    int64  \n",
      " 14  price              205 non-null    int64  \n",
      "dtypes: float64(3), int64(5), object(7)\n",
      "memory usage: 24.1+ KB\n"
     ]
    }
   ],
   "source": [
    "df.info()"
   ]
  },
  {
   "cell_type": "code",
   "execution_count": 14,
   "metadata": {},
   "outputs": [
    {
     "name": "stdout",
     "output_type": "stream",
     "text": [
      "<class 'pandas.core.frame.DataFrame'>\n",
      "RangeIndex: 205 entries, 0 to 204\n",
      "Data columns (total 15 columns):\n",
      " #   Column             Non-Null Count  Dtype  \n",
      "---  ------             --------------  -----  \n",
      " 0   symboling          205 non-null    int64  \n",
      " 1   normalized-losses  164 non-null    float64\n",
      " 2   make               205 non-null    object \n",
      " 3   fuel-type          205 non-null    object \n",
      " 4   body-style         205 non-null    object \n",
      " 5   drive-wheels       205 non-null    object \n",
      " 6   engine-location    205 non-null    object \n",
      " 7   width              205 non-null    float64\n",
      " 8   height             205 non-null    float64\n",
      " 9   engine-type        205 non-null    object \n",
      " 10  engine-size        205 non-null    int64  \n",
      " 11  horsepower         203 non-null    float64\n",
      " 12  city-mpg           205 non-null    int64  \n",
      " 13  highway-mpg        205 non-null    int64  \n",
      " 14  price              205 non-null    int64  \n",
      "dtypes: float64(4), int64(5), object(6)\n",
      "memory usage: 24.1+ KB\n"
     ]
    }
   ],
   "source": [
    "df['horsepower']=df['horsepower'].replace('?',np.nan)\n",
    "df['horsepower']=df['horsepower'].astype('float')\n",
    "df.info()"
   ]
  },
  {
   "cell_type": "code",
   "execution_count": 15,
   "metadata": {},
   "outputs": [
    {
     "data": {
      "text/plain": [
       "115.0"
      ]
     },
     "execution_count": 15,
     "metadata": {},
     "output_type": "execute_result"
    }
   ],
   "source": [
    "df['normalized-losses'].median()"
   ]
  },
  {
   "cell_type": "code",
   "execution_count": 16,
   "metadata": {},
   "outputs": [],
   "source": [
    "df['normalized-losses']=df['normalized-losses'].fillna(df['normalized-losses'].median())"
   ]
  },
  {
   "cell_type": "code",
   "execution_count": 17,
   "metadata": {},
   "outputs": [],
   "source": [
    "df['horsepower']=df['horsepower'].fillna(df['horsepower'].median())"
   ]
  },
  {
   "cell_type": "code",
   "execution_count": 18,
   "metadata": {},
   "outputs": [
    {
     "data": {
      "text/html": [
       "<div>\n",
       "<style scoped>\n",
       "    .dataframe tbody tr th:only-of-type {\n",
       "        vertical-align: middle;\n",
       "    }\n",
       "\n",
       "    .dataframe tbody tr th {\n",
       "        vertical-align: top;\n",
       "    }\n",
       "\n",
       "    .dataframe thead th {\n",
       "        text-align: right;\n",
       "    }\n",
       "</style>\n",
       "<table border=\"1\" class=\"dataframe\">\n",
       "  <thead>\n",
       "    <tr style=\"text-align: right;\">\n",
       "      <th></th>\n",
       "      <th>symboling</th>\n",
       "      <th>normalized-losses</th>\n",
       "      <th>width</th>\n",
       "      <th>height</th>\n",
       "      <th>engine-size</th>\n",
       "      <th>horsepower</th>\n",
       "      <th>city-mpg</th>\n",
       "      <th>highway-mpg</th>\n",
       "      <th>price</th>\n",
       "    </tr>\n",
       "  </thead>\n",
       "  <tbody>\n",
       "    <tr>\n",
       "      <th>symboling</th>\n",
       "      <td>1.000000</td>\n",
       "      <td>0.457484</td>\n",
       "      <td>-0.232919</td>\n",
       "      <td>-0.541038</td>\n",
       "      <td>-0.105790</td>\n",
       "      <td>0.071064</td>\n",
       "      <td>-0.035823</td>\n",
       "      <td>0.034606</td>\n",
       "      <td>-0.085781</td>\n",
       "    </tr>\n",
       "    <tr>\n",
       "      <th>normalized-losses</th>\n",
       "      <td>0.457484</td>\n",
       "      <td>1.000000</td>\n",
       "      <td>0.058378</td>\n",
       "      <td>-0.365674</td>\n",
       "      <td>0.072536</td>\n",
       "      <td>0.166964</td>\n",
       "      <td>-0.189530</td>\n",
       "      <td>-0.149357</td>\n",
       "      <td>0.093477</td>\n",
       "    </tr>\n",
       "    <tr>\n",
       "      <th>width</th>\n",
       "      <td>-0.232919</td>\n",
       "      <td>0.058378</td>\n",
       "      <td>1.000000</td>\n",
       "      <td>0.279210</td>\n",
       "      <td>0.735433</td>\n",
       "      <td>0.641337</td>\n",
       "      <td>-0.642704</td>\n",
       "      <td>-0.677218</td>\n",
       "      <td>0.718253</td>\n",
       "    </tr>\n",
       "    <tr>\n",
       "      <th>height</th>\n",
       "      <td>-0.541038</td>\n",
       "      <td>-0.365674</td>\n",
       "      <td>0.279210</td>\n",
       "      <td>1.000000</td>\n",
       "      <td>0.067149</td>\n",
       "      <td>-0.109286</td>\n",
       "      <td>-0.048640</td>\n",
       "      <td>-0.107358</td>\n",
       "      <td>0.132444</td>\n",
       "    </tr>\n",
       "    <tr>\n",
       "      <th>engine-size</th>\n",
       "      <td>-0.105790</td>\n",
       "      <td>0.072536</td>\n",
       "      <td>0.735433</td>\n",
       "      <td>0.067149</td>\n",
       "      <td>1.000000</td>\n",
       "      <td>0.810216</td>\n",
       "      <td>-0.653658</td>\n",
       "      <td>-0.677470</td>\n",
       "      <td>0.852995</td>\n",
       "    </tr>\n",
       "    <tr>\n",
       "      <th>horsepower</th>\n",
       "      <td>0.071064</td>\n",
       "      <td>0.166964</td>\n",
       "      <td>0.641337</td>\n",
       "      <td>-0.109286</td>\n",
       "      <td>0.810216</td>\n",
       "      <td>1.000000</td>\n",
       "      <td>-0.802170</td>\n",
       "      <td>-0.770780</td>\n",
       "      <td>0.747445</td>\n",
       "    </tr>\n",
       "    <tr>\n",
       "      <th>city-mpg</th>\n",
       "      <td>-0.035823</td>\n",
       "      <td>-0.189530</td>\n",
       "      <td>-0.642704</td>\n",
       "      <td>-0.048640</td>\n",
       "      <td>-0.653658</td>\n",
       "      <td>-0.802170</td>\n",
       "      <td>1.000000</td>\n",
       "      <td>0.971337</td>\n",
       "      <td>-0.654611</td>\n",
       "    </tr>\n",
       "    <tr>\n",
       "      <th>highway-mpg</th>\n",
       "      <td>0.034606</td>\n",
       "      <td>-0.149357</td>\n",
       "      <td>-0.677218</td>\n",
       "      <td>-0.107358</td>\n",
       "      <td>-0.677470</td>\n",
       "      <td>-0.770780</td>\n",
       "      <td>0.971337</td>\n",
       "      <td>1.000000</td>\n",
       "      <td>-0.679048</td>\n",
       "    </tr>\n",
       "    <tr>\n",
       "      <th>price</th>\n",
       "      <td>-0.085781</td>\n",
       "      <td>0.093477</td>\n",
       "      <td>0.718253</td>\n",
       "      <td>0.132444</td>\n",
       "      <td>0.852995</td>\n",
       "      <td>0.747445</td>\n",
       "      <td>-0.654611</td>\n",
       "      <td>-0.679048</td>\n",
       "      <td>1.000000</td>\n",
       "    </tr>\n",
       "  </tbody>\n",
       "</table>\n",
       "</div>"
      ],
      "text/plain": [
       "                   symboling  normalized-losses     width    height  \\\n",
       "symboling           1.000000           0.457484 -0.232919 -0.541038   \n",
       "normalized-losses   0.457484           1.000000  0.058378 -0.365674   \n",
       "width              -0.232919           0.058378  1.000000  0.279210   \n",
       "height             -0.541038          -0.365674  0.279210  1.000000   \n",
       "engine-size        -0.105790           0.072536  0.735433  0.067149   \n",
       "horsepower          0.071064           0.166964  0.641337 -0.109286   \n",
       "city-mpg           -0.035823          -0.189530 -0.642704 -0.048640   \n",
       "highway-mpg         0.034606          -0.149357 -0.677218 -0.107358   \n",
       "price              -0.085781           0.093477  0.718253  0.132444   \n",
       "\n",
       "                   engine-size  horsepower  city-mpg  highway-mpg     price  \n",
       "symboling            -0.105790    0.071064 -0.035823     0.034606 -0.085781  \n",
       "normalized-losses     0.072536    0.166964 -0.189530    -0.149357  0.093477  \n",
       "width                 0.735433    0.641337 -0.642704    -0.677218  0.718253  \n",
       "height                0.067149   -0.109286 -0.048640    -0.107358  0.132444  \n",
       "engine-size           1.000000    0.810216 -0.653658    -0.677470  0.852995  \n",
       "horsepower            0.810216    1.000000 -0.802170    -0.770780  0.747445  \n",
       "city-mpg             -0.653658   -0.802170  1.000000     0.971337 -0.654611  \n",
       "highway-mpg          -0.677470   -0.770780  0.971337     1.000000 -0.679048  \n",
       "price                 0.852995    0.747445 -0.654611    -0.679048  1.000000  "
      ]
     },
     "execution_count": 18,
     "metadata": {},
     "output_type": "execute_result"
    }
   ],
   "source": [
    "df.corr()"
   ]
  },
  {
   "cell_type": "code",
   "execution_count": 19,
   "metadata": {},
   "outputs": [
    {
     "name": "stdout",
     "output_type": "stream",
     "text": [
      "<class 'pandas.core.frame.DataFrame'>\n",
      "RangeIndex: 205 entries, 0 to 204\n",
      "Data columns (total 15 columns):\n",
      " #   Column             Non-Null Count  Dtype  \n",
      "---  ------             --------------  -----  \n",
      " 0   symboling          205 non-null    int64  \n",
      " 1   normalized-losses  205 non-null    float64\n",
      " 2   make               205 non-null    object \n",
      " 3   fuel-type          205 non-null    object \n",
      " 4   body-style         205 non-null    object \n",
      " 5   drive-wheels       205 non-null    object \n",
      " 6   engine-location    205 non-null    object \n",
      " 7   width              205 non-null    float64\n",
      " 8   height             205 non-null    float64\n",
      " 9   engine-type        205 non-null    object \n",
      " 10  engine-size        205 non-null    int64  \n",
      " 11  horsepower         205 non-null    float64\n",
      " 12  city-mpg           205 non-null    int64  \n",
      " 13  highway-mpg        205 non-null    int64  \n",
      " 14  price              205 non-null    int64  \n",
      "dtypes: float64(4), int64(5), object(6)\n",
      "memory usage: 24.1+ KB\n"
     ]
    }
   ],
   "source": [
    "df.info()"
   ]
  },
  {
   "cell_type": "code",
   "execution_count": 20,
   "metadata": {},
   "outputs": [
    {
     "data": {
      "image/png": "[encoded data removed]",
      "text/plain": [
       "<Figure size 432x288 with 2 Axes>"
      ]
     },
     "metadata": {
      "needs_background": "light"
     },
     "output_type": "display_data"
    }
   ],
   "source": [
    "plt.figure()\n",
    "sns.heatmap(df.isnull())\n",
    "plt.show()"
   ]
  },
  {
   "cell_type": "code",
   "execution_count": 21,
   "metadata": {},
   "outputs": [],
   "source": [
    "#There are no null values as well as unwanted values available"
   ]
  },
  {
   "cell_type": "code",
   "execution_count": 22,
   "metadata": {
    "scrolled": false
   },
   "outputs": [],
   "source": [
    "numdf=df.select_dtypes(['int64','float64','int32'])"
   ]
  },
  {
   "cell_type": "code",
   "execution_count": 23,
   "metadata": {},
   "outputs": [
    {
     "data": {
      "text/plain": [
       "(205, 9)"
      ]
     },
     "execution_count": 23,
     "metadata": {},
     "output_type": "execute_result"
    }
   ],
   "source": [
    "numdf.shape"
   ]
  },
  {
   "cell_type": "code",
   "execution_count": 24,
   "metadata": {
    "scrolled": false
   },
   "outputs": [
    {
     "name": "stdout",
     "output_type": "stream",
     "text": [
      "symboling\n"
     ]
    },
    {
     "data": {
      "image/png": "[encoded data removed]",
      "text/plain": [
       "<Figure size 720x720 with 1 Axes>"
      ]
     },
     "metadata": {
      "needs_background": "light"
     },
     "output_type": "display_data"
    },
    {
     "name": "stdout",
     "output_type": "stream",
     "text": [
      "\n",
      "normalized-losses\n"
     ]
    },
    {
     "data": {
      "image/png": "[encoded data removed]",
      "text/plain": [
       "<Figure size 720x720 with 1 Axes>"
      ]
     },
     "metadata": {
      "needs_background": "light"
     },
     "output_type": "display_data"
    },
    {
     "name": "stdout",
     "output_type": "stream",
     "text": [
      "\n",
      "width\n"
     ]
    },
    {
     "data": {
      "image/png": "[encoded data removed]",
      "text/plain": [
       "<Figure size 720x720 with 1 Axes>"
      ]
     },
     "metadata": {
      "needs_background": "light"
     },
     "output_type": "display_data"
    },
    {
     "name": "stdout",
     "output_type": "stream",
     "text": [
      "\n",
      "height\n"
     ]
    },
    {
     "data": {
      "image/png": "[encoded data removed]",
      "text/plain": [
       "<Figure size 720x720 with 1 Axes>"
      ]
     },
     "metadata": {
      "needs_background": "light"
     },
     "output_type": "display_data"
    },
    {
     "name": "stdout",
     "output_type": "stream",
     "text": [
      "\n",
      "engine-size\n"
     ]
    },
    {
     "data": {
      "image/png": "[encoded data removed]",
      "text/plain": [
       "<Figure size 720x720 with 1 Axes>"
      ]
     },
     "metadata": {
      "needs_background": "light"
     },
     "output_type": "display_data"
    },
    {
     "name": "stdout",
     "output_type": "stream",
     "text": [
      "\n",
      "horsepower\n"
     ]
    },
    {
     "data": {
      "image/png": "[encoded data removed]",
      "text/plain": [
       "<Figure size 720x720 with 1 Axes>"
      ]
     },
     "metadata": {
      "needs_background": "light"
     },
     "output_type": "display_data"
    },
    {
     "name": "stdout",
     "output_type": "stream",
     "text": [
      "\n",
      "city-mpg\n"
     ]
    },
    {
     "data": {
      "image/png": "[encoded data removed]",
      "text/plain": [
       "<Figure size 720x720 with 1 Axes>"
      ]
     },
     "metadata": {
      "needs_background": "light"
     },
     "output_type": "display_data"
    },
    {
     "name": "stdout",
     "output_type": "stream",
     "text": [
      "\n",
      "highway-mpg\n"
     ]
    },
    {
     "data": {
      "image/png": "[encoded data removed]",
      "text/plain": [
       "<Figure size 720x720 with 1 Axes>"
      ]
     },
     "metadata": {
      "needs_background": "light"
     },
     "output_type": "display_data"
    },
    {
     "name": "stdout",
     "output_type": "stream",
     "text": [
      "\n",
      "price\n"
     ]
    },
    {
     "data": {
      "image/png": "[encoded data removed]",
      "text/plain": [
       "<Figure size 720x720 with 1 Axes>"
      ]
     },
     "metadata": {
      "needs_background": "light"
     },
     "output_type": "display_data"
    },
    {
     "name": "stdout",
     "output_type": "stream",
     "text": [
      "\n"
     ]
    }
   ],
   "source": [
    "#Check Outliers\n",
    "for i in numdf:\n",
    "    print(i)\n",
    "    plt.figure(figsize=(10,10))\n",
    "    sns.boxplot(data=df,x=i)\n",
    "    plt.show()\n",
    "    print()"
   ]
  },
  {
   "cell_type": "code",
   "execution_count": 25,
   "metadata": {
    "scrolled": false
   },
   "outputs": [
    {
     "data": {
      "image/png": "[encoded data removed]",
      "text/plain": [
       "<Figure size 1080x1080 with 1 Axes>"
      ]
     },
     "metadata": {
      "needs_background": "light"
     },
     "output_type": "display_data"
    }
   ],
   "source": [
    "#Check outliers with respect to make in price\n",
    "plt.figure(figsize=(15,15))\n",
    "sns.boxplot(data=df,x='price',y='make')\n",
    "plt.show()"
   ]
  },
  {
   "cell_type": "code",
   "execution_count": 26,
   "metadata": {},
   "outputs": [
    {
     "data": {
      "text/html": [
       "<div>\n",
       "<style scoped>\n",
       "    .dataframe tbody tr th:only-of-type {\n",
       "        vertical-align: middle;\n",
       "    }\n",
       "\n",
       "    .dataframe tbody tr th {\n",
       "        vertical-align: top;\n",
       "    }\n",
       "\n",
       "    .dataframe thead th {\n",
       "        text-align: right;\n",
       "    }\n",
       "</style>\n",
       "<table border=\"1\" class=\"dataframe\">\n",
       "  <thead>\n",
       "    <tr style=\"text-align: right;\">\n",
       "      <th></th>\n",
       "      <th>symboling</th>\n",
       "      <th>normalized-losses</th>\n",
       "      <th>make</th>\n",
       "      <th>fuel-type</th>\n",
       "      <th>body-style</th>\n",
       "      <th>drive-wheels</th>\n",
       "      <th>engine-location</th>\n",
       "      <th>width</th>\n",
       "      <th>height</th>\n",
       "      <th>engine-type</th>\n",
       "      <th>engine-size</th>\n",
       "      <th>horsepower</th>\n",
       "      <th>city-mpg</th>\n",
       "      <th>highway-mpg</th>\n",
       "      <th>price</th>\n",
       "    </tr>\n",
       "  </thead>\n",
       "  <tbody>\n",
       "    <tr>\n",
       "      <th>29</th>\n",
       "      <td>3</td>\n",
       "      <td>145.0</td>\n",
       "      <td>dodge</td>\n",
       "      <td>gas</td>\n",
       "      <td>hatchback</td>\n",
       "      <td>fwd</td>\n",
       "      <td>front</td>\n",
       "      <td>66.3</td>\n",
       "      <td>50.2</td>\n",
       "      <td>ohc</td>\n",
       "      <td>156</td>\n",
       "      <td>145.0</td>\n",
       "      <td>19</td>\n",
       "      <td>24</td>\n",
       "      <td>12964</td>\n",
       "    </tr>\n",
       "  </tbody>\n",
       "</table>\n",
       "</div>"
      ],
      "text/plain": [
       "    symboling  normalized-losses   make fuel-type body-style drive-wheels  \\\n",
       "29          3              145.0  dodge       gas  hatchback          fwd   \n",
       "\n",
       "   engine-location  width  height engine-type  engine-size  horsepower  \\\n",
       "29           front   66.3    50.2         ohc          156       145.0   \n",
       "\n",
       "    city-mpg  highway-mpg  price  \n",
       "29        19           24  12964  "
      ]
     },
     "execution_count": 26,
     "metadata": {},
     "output_type": "execute_result"
    }
   ],
   "source": [
    "df[(df['make']=='dodge') & (df['price']>9000)]"
   ]
  },
  {
   "cell_type": "code",
   "execution_count": 27,
   "metadata": {},
   "outputs": [],
   "source": [
    "df=df.drop(29)"
   ]
  },
  {
   "cell_type": "code",
   "execution_count": 28,
   "metadata": {},
   "outputs": [
    {
     "data": {
      "text/html": [
       "<div>\n",
       "<style scoped>\n",
       "    .dataframe tbody tr th:only-of-type {\n",
       "        vertical-align: middle;\n",
       "    }\n",
       "\n",
       "    .dataframe tbody tr th {\n",
       "        vertical-align: top;\n",
       "    }\n",
       "\n",
       "    .dataframe thead th {\n",
       "        text-align: right;\n",
       "    }\n",
       "</style>\n",
       "<table border=\"1\" class=\"dataframe\">\n",
       "  <thead>\n",
       "    <tr style=\"text-align: right;\">\n",
       "      <th></th>\n",
       "      <th>symboling</th>\n",
       "      <th>normalized-losses</th>\n",
       "      <th>make</th>\n",
       "      <th>fuel-type</th>\n",
       "      <th>body-style</th>\n",
       "      <th>drive-wheels</th>\n",
       "      <th>engine-location</th>\n",
       "      <th>width</th>\n",
       "      <th>height</th>\n",
       "      <th>engine-type</th>\n",
       "      <th>engine-size</th>\n",
       "      <th>horsepower</th>\n",
       "      <th>city-mpg</th>\n",
       "      <th>highway-mpg</th>\n",
       "      <th>price</th>\n",
       "    </tr>\n",
       "  </thead>\n",
       "  <tbody>\n",
       "    <tr>\n",
       "      <th>41</th>\n",
       "      <td>0</td>\n",
       "      <td>85.0</td>\n",
       "      <td>honda</td>\n",
       "      <td>gas</td>\n",
       "      <td>sedan</td>\n",
       "      <td>fwd</td>\n",
       "      <td>front</td>\n",
       "      <td>65.2</td>\n",
       "      <td>54.1</td>\n",
       "      <td>ohc</td>\n",
       "      <td>110</td>\n",
       "      <td>101.0</td>\n",
       "      <td>24</td>\n",
       "      <td>28</td>\n",
       "      <td>12945</td>\n",
       "    </tr>\n",
       "  </tbody>\n",
       "</table>\n",
       "</div>"
      ],
      "text/plain": [
       "    symboling  normalized-losses   make fuel-type body-style drive-wheels  \\\n",
       "41          0               85.0  honda       gas      sedan          fwd   \n",
       "\n",
       "   engine-location  width  height engine-type  engine-size  horsepower  \\\n",
       "41           front   65.2    54.1         ohc          110       101.0   \n",
       "\n",
       "    city-mpg  highway-mpg  price  \n",
       "41        24           28  12945  "
      ]
     },
     "execution_count": 28,
     "metadata": {},
     "output_type": "execute_result"
    }
   ],
   "source": [
    "df[(df['make']=='honda') & (df['price']>11000)]"
   ]
  },
  {
   "cell_type": "code",
   "execution_count": 29,
   "metadata": {},
   "outputs": [],
   "source": [
    "df=df.drop(41)"
   ]
  },
  {
   "cell_type": "code",
   "execution_count": 30,
   "metadata": {},
   "outputs": [
    {
     "data": {
      "text/html": [
       "<div>\n",
       "<style scoped>\n",
       "    .dataframe tbody tr th:only-of-type {\n",
       "        vertical-align: middle;\n",
       "    }\n",
       "\n",
       "    .dataframe tbody tr th {\n",
       "        vertical-align: top;\n",
       "    }\n",
       "\n",
       "    .dataframe thead th {\n",
       "        text-align: right;\n",
       "    }\n",
       "</style>\n",
       "<table border=\"1\" class=\"dataframe\">\n",
       "  <thead>\n",
       "    <tr style=\"text-align: right;\">\n",
       "      <th></th>\n",
       "      <th>symboling</th>\n",
       "      <th>normalized-losses</th>\n",
       "      <th>make</th>\n",
       "      <th>fuel-type</th>\n",
       "      <th>body-style</th>\n",
       "      <th>drive-wheels</th>\n",
       "      <th>engine-location</th>\n",
       "      <th>width</th>\n",
       "      <th>height</th>\n",
       "      <th>engine-type</th>\n",
       "      <th>engine-size</th>\n",
       "      <th>horsepower</th>\n",
       "      <th>city-mpg</th>\n",
       "      <th>highway-mpg</th>\n",
       "      <th>price</th>\n",
       "    </tr>\n",
       "  </thead>\n",
       "  <tbody>\n",
       "    <tr>\n",
       "      <th>45</th>\n",
       "      <td>0</td>\n",
       "      <td>115.0</td>\n",
       "      <td>isuzu</td>\n",
       "      <td>gas</td>\n",
       "      <td>sedan</td>\n",
       "      <td>fwd</td>\n",
       "      <td>front</td>\n",
       "      <td>63.6</td>\n",
       "      <td>52.0</td>\n",
       "      <td>ohc</td>\n",
       "      <td>90</td>\n",
       "      <td>70.0</td>\n",
       "      <td>38</td>\n",
       "      <td>43</td>\n",
       "      <td>23000</td>\n",
       "    </tr>\n",
       "  </tbody>\n",
       "</table>\n",
       "</div>"
      ],
      "text/plain": [
       "    symboling  normalized-losses   make fuel-type body-style drive-wheels  \\\n",
       "45          0              115.0  isuzu       gas      sedan          fwd   \n",
       "\n",
       "   engine-location  width  height engine-type  engine-size  horsepower  \\\n",
       "45           front   63.6    52.0         ohc           90        70.0   \n",
       "\n",
       "    city-mpg  highway-mpg  price  \n",
       "45        38           43  23000  "
      ]
     },
     "execution_count": 30,
     "metadata": {},
     "output_type": "execute_result"
    }
   ],
   "source": [
    "df[(df['make']=='isuzu') & (df['price']>15000)]"
   ]
  },
  {
   "cell_type": "code",
   "execution_count": 31,
   "metadata": {},
   "outputs": [],
   "source": [
    "df=df.drop(45)"
   ]
  },
  {
   "cell_type": "code",
   "execution_count": 32,
   "metadata": {},
   "outputs": [
    {
     "data": {
      "text/html": [
       "<div>\n",
       "<style scoped>\n",
       "    .dataframe tbody tr th:only-of-type {\n",
       "        vertical-align: middle;\n",
       "    }\n",
       "\n",
       "    .dataframe tbody tr th {\n",
       "        vertical-align: top;\n",
       "    }\n",
       "\n",
       "    .dataframe thead th {\n",
       "        text-align: right;\n",
       "    }\n",
       "</style>\n",
       "<table border=\"1\" class=\"dataframe\">\n",
       "  <thead>\n",
       "    <tr style=\"text-align: right;\">\n",
       "      <th></th>\n",
       "      <th>symboling</th>\n",
       "      <th>normalized-losses</th>\n",
       "      <th>make</th>\n",
       "      <th>fuel-type</th>\n",
       "      <th>body-style</th>\n",
       "      <th>drive-wheels</th>\n",
       "      <th>engine-location</th>\n",
       "      <th>width</th>\n",
       "      <th>height</th>\n",
       "      <th>engine-type</th>\n",
       "      <th>engine-size</th>\n",
       "      <th>horsepower</th>\n",
       "      <th>city-mpg</th>\n",
       "      <th>highway-mpg</th>\n",
       "      <th>price</th>\n",
       "    </tr>\n",
       "  </thead>\n",
       "  <tbody>\n",
       "    <tr>\n",
       "      <th>83</th>\n",
       "      <td>3</td>\n",
       "      <td>115.0</td>\n",
       "      <td>mitsubishi</td>\n",
       "      <td>gas</td>\n",
       "      <td>hatchback</td>\n",
       "      <td>fwd</td>\n",
       "      <td>front</td>\n",
       "      <td>66.3</td>\n",
       "      <td>50.2</td>\n",
       "      <td>ohc</td>\n",
       "      <td>156</td>\n",
       "      <td>145.0</td>\n",
       "      <td>19</td>\n",
       "      <td>24</td>\n",
       "      <td>14869</td>\n",
       "    </tr>\n",
       "    <tr>\n",
       "      <th>84</th>\n",
       "      <td>3</td>\n",
       "      <td>115.0</td>\n",
       "      <td>mitsubishi</td>\n",
       "      <td>gas</td>\n",
       "      <td>hatchback</td>\n",
       "      <td>fwd</td>\n",
       "      <td>front</td>\n",
       "      <td>66.3</td>\n",
       "      <td>50.2</td>\n",
       "      <td>ohc</td>\n",
       "      <td>156</td>\n",
       "      <td>145.0</td>\n",
       "      <td>19</td>\n",
       "      <td>24</td>\n",
       "      <td>14489</td>\n",
       "    </tr>\n",
       "  </tbody>\n",
       "</table>\n",
       "</div>"
      ],
      "text/plain": [
       "    symboling  normalized-losses        make fuel-type body-style  \\\n",
       "83          3              115.0  mitsubishi       gas  hatchback   \n",
       "84          3              115.0  mitsubishi       gas  hatchback   \n",
       "\n",
       "   drive-wheels engine-location  width  height engine-type  engine-size  \\\n",
       "83          fwd           front   66.3    50.2         ohc          156   \n",
       "84          fwd           front   66.3    50.2         ohc          156   \n",
       "\n",
       "    horsepower  city-mpg  highway-mpg  price  \n",
       "83       145.0        19           24  14869  \n",
       "84       145.0        19           24  14489  "
      ]
     },
     "execution_count": 32,
     "metadata": {},
     "output_type": "execute_result"
    }
   ],
   "source": [
    "df[(df['make']=='mitsubishi') & (df['price']>13000)]"
   ]
  },
  {
   "cell_type": "code",
   "execution_count": 33,
   "metadata": {},
   "outputs": [],
   "source": [
    "df=df.drop([83,84])"
   ]
  },
  {
   "cell_type": "code",
   "execution_count": 34,
   "metadata": {},
   "outputs": [
    {
     "data": {
      "text/html": [
       "<div>\n",
       "<style scoped>\n",
       "    .dataframe tbody tr th:only-of-type {\n",
       "        vertical-align: middle;\n",
       "    }\n",
       "\n",
       "    .dataframe tbody tr th {\n",
       "        vertical-align: top;\n",
       "    }\n",
       "\n",
       "    .dataframe thead th {\n",
       "        text-align: right;\n",
       "    }\n",
       "</style>\n",
       "<table border=\"1\" class=\"dataframe\">\n",
       "  <thead>\n",
       "    <tr style=\"text-align: right;\">\n",
       "      <th></th>\n",
       "      <th>symboling</th>\n",
       "      <th>normalized-losses</th>\n",
       "      <th>make</th>\n",
       "      <th>fuel-type</th>\n",
       "      <th>body-style</th>\n",
       "      <th>drive-wheels</th>\n",
       "      <th>engine-location</th>\n",
       "      <th>width</th>\n",
       "      <th>height</th>\n",
       "      <th>engine-type</th>\n",
       "      <th>engine-size</th>\n",
       "      <th>horsepower</th>\n",
       "      <th>city-mpg</th>\n",
       "      <th>highway-mpg</th>\n",
       "      <th>price</th>\n",
       "    </tr>\n",
       "  </thead>\n",
       "  <tbody>\n",
       "    <tr>\n",
       "      <th>124</th>\n",
       "      <td>3</td>\n",
       "      <td>115.0</td>\n",
       "      <td>plymouth</td>\n",
       "      <td>gas</td>\n",
       "      <td>hatchback</td>\n",
       "      <td>rwd</td>\n",
       "      <td>front</td>\n",
       "      <td>66.3</td>\n",
       "      <td>50.2</td>\n",
       "      <td>ohc</td>\n",
       "      <td>156</td>\n",
       "      <td>145.0</td>\n",
       "      <td>19</td>\n",
       "      <td>24</td>\n",
       "      <td>12764</td>\n",
       "    </tr>\n",
       "  </tbody>\n",
       "</table>\n",
       "</div>"
      ],
      "text/plain": [
       "     symboling  normalized-losses      make fuel-type body-style drive-wheels  \\\n",
       "124          3              115.0  plymouth       gas  hatchback          rwd   \n",
       "\n",
       "    engine-location  width  height engine-type  engine-size  horsepower  \\\n",
       "124           front   66.3    50.2         ohc          156       145.0   \n",
       "\n",
       "     city-mpg  highway-mpg  price  \n",
       "124        19           24  12764  "
      ]
     },
     "execution_count": 34,
     "metadata": {},
     "output_type": "execute_result"
    }
   ],
   "source": [
    "df[(df['make']=='plymouth') & (df['price']>10000)]"
   ]
  },
  {
   "cell_type": "code",
   "execution_count": 35,
   "metadata": {},
   "outputs": [],
   "source": [
    "df=df.drop(124)"
   ]
  },
  {
   "cell_type": "code",
   "execution_count": 36,
   "metadata": {},
   "outputs": [
    {
     "data": {
      "text/html": [
       "<div>\n",
       "<style scoped>\n",
       "    .dataframe tbody tr th:only-of-type {\n",
       "        vertical-align: middle;\n",
       "    }\n",
       "\n",
       "    .dataframe tbody tr th {\n",
       "        vertical-align: top;\n",
       "    }\n",
       "\n",
       "    .dataframe thead th {\n",
       "        text-align: right;\n",
       "    }\n",
       "</style>\n",
       "<table border=\"1\" class=\"dataframe\">\n",
       "  <thead>\n",
       "    <tr style=\"text-align: right;\">\n",
       "      <th></th>\n",
       "      <th>symboling</th>\n",
       "      <th>normalized-losses</th>\n",
       "      <th>make</th>\n",
       "      <th>fuel-type</th>\n",
       "      <th>body-style</th>\n",
       "      <th>drive-wheels</th>\n",
       "      <th>engine-location</th>\n",
       "      <th>width</th>\n",
       "      <th>height</th>\n",
       "      <th>engine-type</th>\n",
       "      <th>engine-size</th>\n",
       "      <th>horsepower</th>\n",
       "      <th>city-mpg</th>\n",
       "      <th>highway-mpg</th>\n",
       "      <th>price</th>\n",
       "    </tr>\n",
       "  </thead>\n",
       "  <tbody>\n",
       "    <tr>\n",
       "      <th>172</th>\n",
       "      <td>2</td>\n",
       "      <td>134.0</td>\n",
       "      <td>toyota</td>\n",
       "      <td>gas</td>\n",
       "      <td>convertible</td>\n",
       "      <td>rwd</td>\n",
       "      <td>front</td>\n",
       "      <td>65.6</td>\n",
       "      <td>53.0</td>\n",
       "      <td>ohc</td>\n",
       "      <td>146</td>\n",
       "      <td>116.0</td>\n",
       "      <td>24</td>\n",
       "      <td>30</td>\n",
       "      <td>17669</td>\n",
       "    </tr>\n",
       "    <tr>\n",
       "      <th>178</th>\n",
       "      <td>3</td>\n",
       "      <td>197.0</td>\n",
       "      <td>toyota</td>\n",
       "      <td>gas</td>\n",
       "      <td>hatchback</td>\n",
       "      <td>rwd</td>\n",
       "      <td>front</td>\n",
       "      <td>67.7</td>\n",
       "      <td>52.0</td>\n",
       "      <td>dohc</td>\n",
       "      <td>171</td>\n",
       "      <td>161.0</td>\n",
       "      <td>20</td>\n",
       "      <td>24</td>\n",
       "      <td>16558</td>\n",
       "    </tr>\n",
       "    <tr>\n",
       "      <th>179</th>\n",
       "      <td>3</td>\n",
       "      <td>197.0</td>\n",
       "      <td>toyota</td>\n",
       "      <td>gas</td>\n",
       "      <td>hatchback</td>\n",
       "      <td>rwd</td>\n",
       "      <td>front</td>\n",
       "      <td>67.7</td>\n",
       "      <td>52.0</td>\n",
       "      <td>dohc</td>\n",
       "      <td>171</td>\n",
       "      <td>161.0</td>\n",
       "      <td>19</td>\n",
       "      <td>24</td>\n",
       "      <td>15998</td>\n",
       "    </tr>\n",
       "    <tr>\n",
       "      <th>180</th>\n",
       "      <td>-1</td>\n",
       "      <td>90.0</td>\n",
       "      <td>toyota</td>\n",
       "      <td>gas</td>\n",
       "      <td>sedan</td>\n",
       "      <td>rwd</td>\n",
       "      <td>front</td>\n",
       "      <td>66.5</td>\n",
       "      <td>54.1</td>\n",
       "      <td>dohc</td>\n",
       "      <td>171</td>\n",
       "      <td>156.0</td>\n",
       "      <td>20</td>\n",
       "      <td>24</td>\n",
       "      <td>15690</td>\n",
       "    </tr>\n",
       "    <tr>\n",
       "      <th>181</th>\n",
       "      <td>-1</td>\n",
       "      <td>115.0</td>\n",
       "      <td>toyota</td>\n",
       "      <td>gas</td>\n",
       "      <td>wagon</td>\n",
       "      <td>rwd</td>\n",
       "      <td>front</td>\n",
       "      <td>66.5</td>\n",
       "      <td>54.1</td>\n",
       "      <td>dohc</td>\n",
       "      <td>161</td>\n",
       "      <td>156.0</td>\n",
       "      <td>19</td>\n",
       "      <td>24</td>\n",
       "      <td>15750</td>\n",
       "    </tr>\n",
       "  </tbody>\n",
       "</table>\n",
       "</div>"
      ],
      "text/plain": [
       "     symboling  normalized-losses    make fuel-type   body-style drive-wheels  \\\n",
       "172          2              134.0  toyota       gas  convertible          rwd   \n",
       "178          3              197.0  toyota       gas    hatchback          rwd   \n",
       "179          3              197.0  toyota       gas    hatchback          rwd   \n",
       "180         -1               90.0  toyota       gas        sedan          rwd   \n",
       "181         -1              115.0  toyota       gas        wagon          rwd   \n",
       "\n",
       "    engine-location  width  height engine-type  engine-size  horsepower  \\\n",
       "172           front   65.6    53.0         ohc          146       116.0   \n",
       "178           front   67.7    52.0        dohc          171       161.0   \n",
       "179           front   67.7    52.0        dohc          171       161.0   \n",
       "180           front   66.5    54.1        dohc          171       156.0   \n",
       "181           front   66.5    54.1        dohc          161       156.0   \n",
       "\n",
       "     city-mpg  highway-mpg  price  \n",
       "172        24           30  17669  \n",
       "178        20           24  16558  \n",
       "179        19           24  15998  \n",
       "180        20           24  15690  \n",
       "181        19           24  15750  "
      ]
     },
     "execution_count": 36,
     "metadata": {},
     "output_type": "execute_result"
    }
   ],
   "source": [
    "df[(df['make']=='toyota') & (df['price']>12500)]"
   ]
  },
  {
   "cell_type": "code",
   "execution_count": 37,
   "metadata": {},
   "outputs": [],
   "source": [
    "df=df.drop([172,178,179,180,181])"
   ]
  },
  {
   "cell_type": "code",
   "execution_count": 38,
   "metadata": {},
   "outputs": [
    {
     "data": {
      "text/plain": [
       "(194, 15)"
      ]
     },
     "execution_count": 38,
     "metadata": {},
     "output_type": "execute_result"
    }
   ],
   "source": [
    "# Check skewness\n",
    "df.shape"
   ]
  },
  {
   "cell_type": "code",
   "execution_count": 39,
   "metadata": {},
   "outputs": [],
   "source": [
    "#Separate numerical and categorical data\n",
    "numdf=df.select_dtypes(['int64','int32','float64'])\n",
    "catdf=df.select_dtypes('object')"
   ]
  },
  {
   "cell_type": "code",
   "execution_count": 40,
   "metadata": {},
   "outputs": [
    {
     "data": {
      "text/plain": [
       "(194, 9)"
      ]
     },
     "execution_count": 40,
     "metadata": {},
     "output_type": "execute_result"
    }
   ],
   "source": [
    "numdf.shape"
   ]
  },
  {
   "cell_type": "code",
   "execution_count": 41,
   "metadata": {},
   "outputs": [
    {
     "data": {
      "text/plain": [
       "(194, 6)"
      ]
     },
     "execution_count": 41,
     "metadata": {},
     "output_type": "execute_result"
    }
   ],
   "source": [
    "catdf.shape"
   ]
  },
  {
   "cell_type": "code",
   "execution_count": 42,
   "metadata": {},
   "outputs": [],
   "source": [
    "from scipy.stats import skew"
   ]
  },
  {
   "cell_type": "code",
   "execution_count": 43,
   "metadata": {
    "scrolled": false
   },
   "outputs": [
    {
     "name": "stdout",
     "output_type": "stream",
     "text": [
      "symboling\n",
      "0.21386866184357742\n",
      "\n",
      "normalized-losses\n",
      "0.9632059441735282\n",
      "\n",
      "width\n",
      "0.9140400320504322\n",
      "\n",
      "height\n",
      "0.013839962443639326\n",
      "\n",
      "engine-size\n",
      "2.0541257626466156\n",
      "\n",
      "horsepower\n",
      "1.5620892525023995\n",
      "\n",
      "city-mpg\n",
      "0.5999073033714895\n",
      "\n",
      "highway-mpg\n",
      "0.4760310091695327\n",
      "\n",
      "price\n",
      "1.8166794702973463\n",
      "\n"
     ]
    }
   ],
   "source": [
    "for i in numdf:\n",
    "    print(i)\n",
    "    print(skew(numdf[i]))\n",
    "    print()"
   ]
  },
  {
   "cell_type": "code",
   "execution_count": 44,
   "metadata": {},
   "outputs": [],
   "source": [
    "# Before remove skewness see the correlation of features if the corelation of any feature is high \n",
    "# then don't remove skewness of that feature"
   ]
  },
  {
   "cell_type": "code",
   "execution_count": 45,
   "metadata": {},
   "outputs": [
    {
     "data": {
      "text/html": [
       "<div>\n",
       "<style scoped>\n",
       "    .dataframe tbody tr th:only-of-type {\n",
       "        vertical-align: middle;\n",
       "    }\n",
       "\n",
       "    .dataframe tbody tr th {\n",
       "        vertical-align: top;\n",
       "    }\n",
       "\n",
       "    .dataframe thead th {\n",
       "        text-align: right;\n",
       "    }\n",
       "</style>\n",
       "<table border=\"1\" class=\"dataframe\">\n",
       "  <thead>\n",
       "    <tr style=\"text-align: right;\">\n",
       "      <th></th>\n",
       "      <th>symboling</th>\n",
       "      <th>normalized-losses</th>\n",
       "      <th>width</th>\n",
       "      <th>height</th>\n",
       "      <th>engine-size</th>\n",
       "      <th>horsepower</th>\n",
       "      <th>city-mpg</th>\n",
       "      <th>highway-mpg</th>\n",
       "      <th>price</th>\n",
       "    </tr>\n",
       "  </thead>\n",
       "  <tbody>\n",
       "    <tr>\n",
       "      <th>symboling</th>\n",
       "      <td>1.000000</td>\n",
       "      <td>0.442174</td>\n",
       "      <td>-0.272388</td>\n",
       "      <td>-0.521495</td>\n",
       "      <td>-0.153671</td>\n",
       "      <td>0.026640</td>\n",
       "      <td>0.007189</td>\n",
       "      <td>0.084238</td>\n",
       "      <td>-0.095905</td>\n",
       "    </tr>\n",
       "    <tr>\n",
       "      <th>normalized-losses</th>\n",
       "      <td>0.442174</td>\n",
       "      <td>1.000000</td>\n",
       "      <td>0.039193</td>\n",
       "      <td>-0.367588</td>\n",
       "      <td>0.050839</td>\n",
       "      <td>0.146712</td>\n",
       "      <td>-0.182300</td>\n",
       "      <td>-0.139384</td>\n",
       "      <td>0.089790</td>\n",
       "    </tr>\n",
       "    <tr>\n",
       "      <th>width</th>\n",
       "      <td>-0.272388</td>\n",
       "      <td>0.039193</td>\n",
       "      <td>1.000000</td>\n",
       "      <td>0.296011</td>\n",
       "      <td>0.735112</td>\n",
       "      <td>0.643063</td>\n",
       "      <td>-0.641401</td>\n",
       "      <td>-0.677911</td>\n",
       "      <td>0.730503</td>\n",
       "    </tr>\n",
       "    <tr>\n",
       "      <th>height</th>\n",
       "      <td>-0.521495</td>\n",
       "      <td>-0.367588</td>\n",
       "      <td>0.296011</td>\n",
       "      <td>1.000000</td>\n",
       "      <td>0.096041</td>\n",
       "      <td>-0.077263</td>\n",
       "      <td>-0.078815</td>\n",
       "      <td>-0.142926</td>\n",
       "      <td>0.147010</td>\n",
       "    </tr>\n",
       "    <tr>\n",
       "      <th>engine-size</th>\n",
       "      <td>-0.153671</td>\n",
       "      <td>0.050839</td>\n",
       "      <td>0.735112</td>\n",
       "      <td>0.096041</td>\n",
       "      <td>1.000000</td>\n",
       "      <td>0.803449</td>\n",
       "      <td>-0.642711</td>\n",
       "      <td>-0.667078</td>\n",
       "      <td>0.869638</td>\n",
       "    </tr>\n",
       "    <tr>\n",
       "      <th>horsepower</th>\n",
       "      <td>0.026640</td>\n",
       "      <td>0.146712</td>\n",
       "      <td>0.643063</td>\n",
       "      <td>-0.077263</td>\n",
       "      <td>0.803449</td>\n",
       "      <td>1.000000</td>\n",
       "      <td>-0.796130</td>\n",
       "      <td>-0.760884</td>\n",
       "      <td>0.769844</td>\n",
       "    </tr>\n",
       "    <tr>\n",
       "      <th>city-mpg</th>\n",
       "      <td>0.007189</td>\n",
       "      <td>-0.182300</td>\n",
       "      <td>-0.641401</td>\n",
       "      <td>-0.078815</td>\n",
       "      <td>-0.642711</td>\n",
       "      <td>-0.796130</td>\n",
       "      <td>1.000000</td>\n",
       "      <td>0.970113</td>\n",
       "      <td>-0.680412</td>\n",
       "    </tr>\n",
       "    <tr>\n",
       "      <th>highway-mpg</th>\n",
       "      <td>0.084238</td>\n",
       "      <td>-0.139384</td>\n",
       "      <td>-0.677911</td>\n",
       "      <td>-0.142926</td>\n",
       "      <td>-0.667078</td>\n",
       "      <td>-0.760884</td>\n",
       "      <td>0.970113</td>\n",
       "      <td>1.000000</td>\n",
       "      <td>-0.704846</td>\n",
       "    </tr>\n",
       "    <tr>\n",
       "      <th>price</th>\n",
       "      <td>-0.095905</td>\n",
       "      <td>0.089790</td>\n",
       "      <td>0.730503</td>\n",
       "      <td>0.147010</td>\n",
       "      <td>0.869638</td>\n",
       "      <td>0.769844</td>\n",
       "      <td>-0.680412</td>\n",
       "      <td>-0.704846</td>\n",
       "      <td>1.000000</td>\n",
       "    </tr>\n",
       "  </tbody>\n",
       "</table>\n",
       "</div>"
      ],
      "text/plain": [
       "                   symboling  normalized-losses     width    height  \\\n",
       "symboling           1.000000           0.442174 -0.272388 -0.521495   \n",
       "normalized-losses   0.442174           1.000000  0.039193 -0.367588   \n",
       "width              -0.272388           0.039193  1.000000  0.296011   \n",
       "height             -0.521495          -0.367588  0.296011  1.000000   \n",
       "engine-size        -0.153671           0.050839  0.735112  0.096041   \n",
       "horsepower          0.026640           0.146712  0.643063 -0.077263   \n",
       "city-mpg            0.007189          -0.182300 -0.641401 -0.078815   \n",
       "highway-mpg         0.084238          -0.139384 -0.677911 -0.142926   \n",
       "price              -0.095905           0.089790  0.730503  0.147010   \n",
       "\n",
       "                   engine-size  horsepower  city-mpg  highway-mpg     price  \n",
       "symboling            -0.153671    0.026640  0.007189     0.084238 -0.095905  \n",
       "normalized-losses     0.050839    0.146712 -0.182300    -0.139384  0.089790  \n",
       "width                 0.735112    0.643063 -0.641401    -0.677911  0.730503  \n",
       "height                0.096041   -0.077263 -0.078815    -0.142926  0.147010  \n",
       "engine-size           1.000000    0.803449 -0.642711    -0.667078  0.869638  \n",
       "horsepower            0.803449    1.000000 -0.796130    -0.760884  0.769844  \n",
       "city-mpg             -0.642711   -0.796130  1.000000     0.970113 -0.680412  \n",
       "highway-mpg          -0.667078   -0.760884  0.970113     1.000000 -0.704846  \n",
       "price                 0.869638    0.769844 -0.680412    -0.704846  1.000000  "
      ]
     },
     "execution_count": 45,
     "metadata": {},
     "output_type": "execute_result"
    }
   ],
   "source": [
    "df.corr()"
   ]
  },
  {
   "cell_type": "code",
   "execution_count": 46,
   "metadata": {},
   "outputs": [],
   "source": [
    "# Remove skewness of normalized-losses feature because it has low correlation using sqrt method"
   ]
  },
  {
   "cell_type": "code",
   "execution_count": 47,
   "metadata": {},
   "outputs": [],
   "source": [
    "df['normalized-losses']=np.sqrt(df['normalized-losses'])"
   ]
  },
  {
   "cell_type": "code",
   "execution_count": 48,
   "metadata": {},
   "outputs": [
    {
     "name": "stdout",
     "output_type": "stream",
     "text": [
      "0.5411036364044417\n"
     ]
    }
   ],
   "source": [
    "print(skew(df['normalized-losses']))"
   ]
  },
  {
   "cell_type": "code",
   "execution_count": 49,
   "metadata": {},
   "outputs": [],
   "source": [
    "#Do Label Encoding to categorical data\n",
    "from sklearn.preprocessing import LabelEncoder\n",
    "le=LabelEncoder()\n",
    "for i in catdf:\n",
    "    catdf[i]=le.fit_transform(catdf[i])"
   ]
  },
  {
   "cell_type": "code",
   "execution_count": 50,
   "metadata": {},
   "outputs": [],
   "source": [
    "#Concat numerical data and categorcal data\n",
    "newdf=pd.concat([catdf,numdf],axis=1)"
   ]
  },
  {
   "cell_type": "code",
   "execution_count": 51,
   "metadata": {},
   "outputs": [
    {
     "data": {
      "text/plain": [
       "(194, 15)"
      ]
     },
     "execution_count": 51,
     "metadata": {},
     "output_type": "execute_result"
    }
   ],
   "source": [
    "newdf.shape"
   ]
  },
  {
   "cell_type": "code",
   "execution_count": 52,
   "metadata": {},
   "outputs": [
    {
     "data": {
      "text/html": [
       "<div>\n",
       "<style scoped>\n",
       "    .dataframe tbody tr th:only-of-type {\n",
       "        vertical-align: middle;\n",
       "    }\n",
       "\n",
       "    .dataframe tbody tr th {\n",
       "        vertical-align: top;\n",
       "    }\n",
       "\n",
       "    .dataframe thead th {\n",
       "        text-align: right;\n",
       "    }\n",
       "</style>\n",
       "<table border=\"1\" class=\"dataframe\">\n",
       "  <thead>\n",
       "    <tr style=\"text-align: right;\">\n",
       "      <th></th>\n",
       "      <th>make</th>\n",
       "      <th>fuel-type</th>\n",
       "      <th>body-style</th>\n",
       "      <th>drive-wheels</th>\n",
       "      <th>engine-location</th>\n",
       "      <th>engine-type</th>\n",
       "      <th>symboling</th>\n",
       "      <th>normalized-losses</th>\n",
       "      <th>width</th>\n",
       "      <th>height</th>\n",
       "      <th>engine-size</th>\n",
       "      <th>horsepower</th>\n",
       "      <th>city-mpg</th>\n",
       "      <th>highway-mpg</th>\n",
       "      <th>price</th>\n",
       "    </tr>\n",
       "  </thead>\n",
       "  <tbody>\n",
       "    <tr>\n",
       "      <th>0</th>\n",
       "      <td>0</td>\n",
       "      <td>1</td>\n",
       "      <td>0</td>\n",
       "      <td>2</td>\n",
       "      <td>0</td>\n",
       "      <td>0</td>\n",
       "      <td>3</td>\n",
       "      <td>115.0</td>\n",
       "      <td>64.1</td>\n",
       "      <td>48.8</td>\n",
       "      <td>130</td>\n",
       "      <td>111.0</td>\n",
       "      <td>21</td>\n",
       "      <td>27</td>\n",
       "      <td>13495</td>\n",
       "    </tr>\n",
       "    <tr>\n",
       "      <th>1</th>\n",
       "      <td>0</td>\n",
       "      <td>1</td>\n",
       "      <td>0</td>\n",
       "      <td>2</td>\n",
       "      <td>0</td>\n",
       "      <td>0</td>\n",
       "      <td>3</td>\n",
       "      <td>115.0</td>\n",
       "      <td>64.1</td>\n",
       "      <td>48.8</td>\n",
       "      <td>130</td>\n",
       "      <td>111.0</td>\n",
       "      <td>21</td>\n",
       "      <td>27</td>\n",
       "      <td>16500</td>\n",
       "    </tr>\n",
       "    <tr>\n",
       "      <th>2</th>\n",
       "      <td>0</td>\n",
       "      <td>1</td>\n",
       "      <td>2</td>\n",
       "      <td>2</td>\n",
       "      <td>0</td>\n",
       "      <td>5</td>\n",
       "      <td>1</td>\n",
       "      <td>115.0</td>\n",
       "      <td>65.5</td>\n",
       "      <td>52.4</td>\n",
       "      <td>152</td>\n",
       "      <td>154.0</td>\n",
       "      <td>19</td>\n",
       "      <td>26</td>\n",
       "      <td>16500</td>\n",
       "    </tr>\n",
       "    <tr>\n",
       "      <th>3</th>\n",
       "      <td>1</td>\n",
       "      <td>1</td>\n",
       "      <td>3</td>\n",
       "      <td>1</td>\n",
       "      <td>0</td>\n",
       "      <td>3</td>\n",
       "      <td>2</td>\n",
       "      <td>164.0</td>\n",
       "      <td>66.2</td>\n",
       "      <td>54.3</td>\n",
       "      <td>109</td>\n",
       "      <td>102.0</td>\n",
       "      <td>24</td>\n",
       "      <td>30</td>\n",
       "      <td>13950</td>\n",
       "    </tr>\n",
       "    <tr>\n",
       "      <th>4</th>\n",
       "      <td>1</td>\n",
       "      <td>1</td>\n",
       "      <td>3</td>\n",
       "      <td>0</td>\n",
       "      <td>0</td>\n",
       "      <td>3</td>\n",
       "      <td>2</td>\n",
       "      <td>164.0</td>\n",
       "      <td>66.4</td>\n",
       "      <td>54.3</td>\n",
       "      <td>136</td>\n",
       "      <td>115.0</td>\n",
       "      <td>18</td>\n",
       "      <td>22</td>\n",
       "      <td>17450</td>\n",
       "    </tr>\n",
       "  </tbody>\n",
       "</table>\n",
       "</div>"
      ],
      "text/plain": [
       "   make  fuel-type  body-style  drive-wheels  engine-location  engine-type  \\\n",
       "0     0          1           0             2                0            0   \n",
       "1     0          1           0             2                0            0   \n",
       "2     0          1           2             2                0            5   \n",
       "3     1          1           3             1                0            3   \n",
       "4     1          1           3             0                0            3   \n",
       "\n",
       "   symboling  normalized-losses  width  height  engine-size  horsepower  \\\n",
       "0          3              115.0   64.1    48.8          130       111.0   \n",
       "1          3              115.0   64.1    48.8          130       111.0   \n",
       "2          1              115.0   65.5    52.4          152       154.0   \n",
       "3          2              164.0   66.2    54.3          109       102.0   \n",
       "4          2              164.0   66.4    54.3          136       115.0   \n",
       "\n",
       "   city-mpg  highway-mpg  price  \n",
       "0        21           27  13495  \n",
       "1        21           27  16500  \n",
       "2        19           26  16500  \n",
       "3        24           30  13950  \n",
       "4        18           22  17450  "
      ]
     },
     "execution_count": 52,
     "metadata": {},
     "output_type": "execute_result"
    }
   ],
   "source": [
    "newdf.head()"
   ]
  },
  {
   "cell_type": "code",
   "execution_count": 53,
   "metadata": {},
   "outputs": [],
   "source": [
    "# Do standard Scaling to the data\n",
    "from sklearn.preprocessing import StandardScaler\n",
    "ss=StandardScaler()\n",
    "for i in newdf:\n",
    "    newdf[i]=ss.fit_transform(newdf[[i]])"
   ]
  },
  {
   "cell_type": "code",
   "execution_count": 54,
   "metadata": {},
   "outputs": [
    {
     "data": {
      "text/html": [
       "<div>\n",
       "<style scoped>\n",
       "    .dataframe tbody tr th:only-of-type {\n",
       "        vertical-align: middle;\n",
       "    }\n",
       "\n",
       "    .dataframe tbody tr th {\n",
       "        vertical-align: top;\n",
       "    }\n",
       "\n",
       "    .dataframe thead th {\n",
       "        text-align: right;\n",
       "    }\n",
       "</style>\n",
       "<table border=\"1\" class=\"dataframe\">\n",
       "  <thead>\n",
       "    <tr style=\"text-align: right;\">\n",
       "      <th></th>\n",
       "      <th>make</th>\n",
       "      <th>fuel-type</th>\n",
       "      <th>body-style</th>\n",
       "      <th>drive-wheels</th>\n",
       "      <th>engine-location</th>\n",
       "      <th>engine-type</th>\n",
       "      <th>symboling</th>\n",
       "      <th>normalized-losses</th>\n",
       "      <th>width</th>\n",
       "      <th>height</th>\n",
       "      <th>engine-size</th>\n",
       "      <th>horsepower</th>\n",
       "      <th>city-mpg</th>\n",
       "      <th>highway-mpg</th>\n",
       "      <th>price</th>\n",
       "    </tr>\n",
       "  </thead>\n",
       "  <tbody>\n",
       "    <tr>\n",
       "      <th>make</th>\n",
       "      <td>1.000000</td>\n",
       "      <td>-0.119746</td>\n",
       "      <td>0.109203</td>\n",
       "      <td>-0.052044</td>\n",
       "      <td>0.057249</td>\n",
       "      <td>0.010788</td>\n",
       "      <td>-0.133413</td>\n",
       "      <td>-0.272131</td>\n",
       "      <td>-0.013582</td>\n",
       "      <td>0.243751</td>\n",
       "      <td>-0.100960</td>\n",
       "      <td>-0.088873</td>\n",
       "      <td>0.079432</td>\n",
       "      <td>0.075333</td>\n",
       "      <td>-0.173792</td>\n",
       "    </tr>\n",
       "    <tr>\n",
       "      <th>fuel-type</th>\n",
       "      <td>-0.119746</td>\n",
       "      <td>1.000000</td>\n",
       "      <td>-0.146577</td>\n",
       "      <td>-0.143825</td>\n",
       "      <td>0.042490</td>\n",
       "      <td>0.112181</td>\n",
       "      <td>0.194923</td>\n",
       "      <td>0.103625</td>\n",
       "      <td>-0.238744</td>\n",
       "      <td>-0.279480</td>\n",
       "      <td>-0.081435</td>\n",
       "      <td>0.154634</td>\n",
       "      <td>-0.253782</td>\n",
       "      <td>-0.185979</td>\n",
       "      <td>-0.115791</td>\n",
       "    </tr>\n",
       "    <tr>\n",
       "      <th>body-style</th>\n",
       "      <td>0.109203</td>\n",
       "      <td>-0.146577</td>\n",
       "      <td>1.000000</td>\n",
       "      <td>-0.149962</td>\n",
       "      <td>-0.291270</td>\n",
       "      <td>-0.033920</td>\n",
       "      <td>-0.584658</td>\n",
       "      <td>-0.231156</td>\n",
       "      <td>0.145147</td>\n",
       "      <td>0.574268</td>\n",
       "      <td>-0.057853</td>\n",
       "      <td>-0.144763</td>\n",
       "      <td>0.015181</td>\n",
       "      <td>-0.024926</td>\n",
       "      <td>-0.065831</td>\n",
       "    </tr>\n",
       "    <tr>\n",
       "      <th>drive-wheels</th>\n",
       "      <td>-0.052044</td>\n",
       "      <td>-0.143825</td>\n",
       "      <td>-0.149962</td>\n",
       "      <td>1.000000</td>\n",
       "      <td>0.154729</td>\n",
       "      <td>-0.053643</td>\n",
       "      <td>-0.055088</td>\n",
       "      <td>0.278529</td>\n",
       "      <td>0.470463</td>\n",
       "      <td>-0.016925</td>\n",
       "      <td>0.518208</td>\n",
       "      <td>0.512652</td>\n",
       "      <td>-0.448046</td>\n",
       "      <td>-0.450402</td>\n",
       "      <td>0.584485</td>\n",
       "    </tr>\n",
       "    <tr>\n",
       "      <th>engine-location</th>\n",
       "      <td>0.057249</td>\n",
       "      <td>0.042490</td>\n",
       "      <td>-0.291270</td>\n",
       "      <td>0.154729</td>\n",
       "      <td>1.000000</td>\n",
       "      <td>0.116897</td>\n",
       "      <td>0.231375</td>\n",
       "      <td>-0.020356</td>\n",
       "      <td>-0.051210</td>\n",
       "      <td>-0.114057</td>\n",
       "      <td>0.204366</td>\n",
       "      <td>0.334518</td>\n",
       "      <td>-0.161467</td>\n",
       "      <td>-0.109265</td>\n",
       "      <td>0.333620</td>\n",
       "    </tr>\n",
       "    <tr>\n",
       "      <th>engine-type</th>\n",
       "      <td>0.010788</td>\n",
       "      <td>0.112181</td>\n",
       "      <td>-0.033920</td>\n",
       "      <td>-0.053643</td>\n",
       "      <td>0.116897</td>\n",
       "      <td>1.000000</td>\n",
       "      <td>0.070345</td>\n",
       "      <td>-0.029446</td>\n",
       "      <td>0.048240</td>\n",
       "      <td>-0.162899</td>\n",
       "      <td>0.109809</td>\n",
       "      <td>0.101920</td>\n",
       "      <td>-0.152574</td>\n",
       "      <td>-0.152407</td>\n",
       "      <td>0.102758</td>\n",
       "    </tr>\n",
       "    <tr>\n",
       "      <th>symboling</th>\n",
       "      <td>-0.133413</td>\n",
       "      <td>0.194923</td>\n",
       "      <td>-0.584658</td>\n",
       "      <td>-0.055088</td>\n",
       "      <td>0.231375</td>\n",
       "      <td>0.070345</td>\n",
       "      <td>1.000000</td>\n",
       "      <td>0.442174</td>\n",
       "      <td>-0.272388</td>\n",
       "      <td>-0.521495</td>\n",
       "      <td>-0.153671</td>\n",
       "      <td>0.026640</td>\n",
       "      <td>0.007189</td>\n",
       "      <td>0.084238</td>\n",
       "      <td>-0.095905</td>\n",
       "    </tr>\n",
       "    <tr>\n",
       "      <th>normalized-losses</th>\n",
       "      <td>-0.272131</td>\n",
       "      <td>0.103625</td>\n",
       "      <td>-0.231156</td>\n",
       "      <td>0.278529</td>\n",
       "      <td>-0.020356</td>\n",
       "      <td>-0.029446</td>\n",
       "      <td>0.442174</td>\n",
       "      <td>1.000000</td>\n",
       "      <td>0.039193</td>\n",
       "      <td>-0.367588</td>\n",
       "      <td>0.050839</td>\n",
       "      <td>0.146712</td>\n",
       "      <td>-0.182300</td>\n",
       "      <td>-0.139384</td>\n",
       "      <td>0.089790</td>\n",
       "    </tr>\n",
       "    <tr>\n",
       "      <th>width</th>\n",
       "      <td>-0.013582</td>\n",
       "      <td>-0.238744</td>\n",
       "      <td>0.145147</td>\n",
       "      <td>0.470463</td>\n",
       "      <td>-0.051210</td>\n",
       "      <td>0.048240</td>\n",
       "      <td>-0.272388</td>\n",
       "      <td>0.039193</td>\n",
       "      <td>1.000000</td>\n",
       "      <td>0.296011</td>\n",
       "      <td>0.735112</td>\n",
       "      <td>0.643063</td>\n",
       "      <td>-0.641401</td>\n",
       "      <td>-0.677911</td>\n",
       "      <td>0.730503</td>\n",
       "    </tr>\n",
       "    <tr>\n",
       "      <th>height</th>\n",
       "      <td>0.243751</td>\n",
       "      <td>-0.279480</td>\n",
       "      <td>0.574268</td>\n",
       "      <td>-0.016925</td>\n",
       "      <td>-0.114057</td>\n",
       "      <td>-0.162899</td>\n",
       "      <td>-0.521495</td>\n",
       "      <td>-0.367588</td>\n",
       "      <td>0.296011</td>\n",
       "      <td>1.000000</td>\n",
       "      <td>0.096041</td>\n",
       "      <td>-0.077263</td>\n",
       "      <td>-0.078815</td>\n",
       "      <td>-0.142926</td>\n",
       "      <td>0.147010</td>\n",
       "    </tr>\n",
       "    <tr>\n",
       "      <th>engine-size</th>\n",
       "      <td>-0.100960</td>\n",
       "      <td>-0.081435</td>\n",
       "      <td>-0.057853</td>\n",
       "      <td>0.518208</td>\n",
       "      <td>0.204366</td>\n",
       "      <td>0.109809</td>\n",
       "      <td>-0.153671</td>\n",
       "      <td>0.050839</td>\n",
       "      <td>0.735112</td>\n",
       "      <td>0.096041</td>\n",
       "      <td>1.000000</td>\n",
       "      <td>0.803449</td>\n",
       "      <td>-0.642711</td>\n",
       "      <td>-0.667078</td>\n",
       "      <td>0.869638</td>\n",
       "    </tr>\n",
       "    <tr>\n",
       "      <th>horsepower</th>\n",
       "      <td>-0.088873</td>\n",
       "      <td>0.154634</td>\n",
       "      <td>-0.144763</td>\n",
       "      <td>0.512652</td>\n",
       "      <td>0.334518</td>\n",
       "      <td>0.101920</td>\n",
       "      <td>0.026640</td>\n",
       "      <td>0.146712</td>\n",
       "      <td>0.643063</td>\n",
       "      <td>-0.077263</td>\n",
       "      <td>0.803449</td>\n",
       "      <td>1.000000</td>\n",
       "      <td>-0.796130</td>\n",
       "      <td>-0.760884</td>\n",
       "      <td>0.769844</td>\n",
       "    </tr>\n",
       "    <tr>\n",
       "      <th>city-mpg</th>\n",
       "      <td>0.079432</td>\n",
       "      <td>-0.253782</td>\n",
       "      <td>0.015181</td>\n",
       "      <td>-0.448046</td>\n",
       "      <td>-0.161467</td>\n",
       "      <td>-0.152574</td>\n",
       "      <td>0.007189</td>\n",
       "      <td>-0.182300</td>\n",
       "      <td>-0.641401</td>\n",
       "      <td>-0.078815</td>\n",
       "      <td>-0.642711</td>\n",
       "      <td>-0.796130</td>\n",
       "      <td>1.000000</td>\n",
       "      <td>0.970113</td>\n",
       "      <td>-0.680412</td>\n",
       "    </tr>\n",
       "    <tr>\n",
       "      <th>highway-mpg</th>\n",
       "      <td>0.075333</td>\n",
       "      <td>-0.185979</td>\n",
       "      <td>-0.024926</td>\n",
       "      <td>-0.450402</td>\n",
       "      <td>-0.109265</td>\n",
       "      <td>-0.152407</td>\n",
       "      <td>0.084238</td>\n",
       "      <td>-0.139384</td>\n",
       "      <td>-0.677911</td>\n",
       "      <td>-0.142926</td>\n",
       "      <td>-0.667078</td>\n",
       "      <td>-0.760884</td>\n",
       "      <td>0.970113</td>\n",
       "      <td>1.000000</td>\n",
       "      <td>-0.704846</td>\n",
       "    </tr>\n",
       "    <tr>\n",
       "      <th>price</th>\n",
       "      <td>-0.173792</td>\n",
       "      <td>-0.115791</td>\n",
       "      <td>-0.065831</td>\n",
       "      <td>0.584485</td>\n",
       "      <td>0.333620</td>\n",
       "      <td>0.102758</td>\n",
       "      <td>-0.095905</td>\n",
       "      <td>0.089790</td>\n",
       "      <td>0.730503</td>\n",
       "      <td>0.147010</td>\n",
       "      <td>0.869638</td>\n",
       "      <td>0.769844</td>\n",
       "      <td>-0.680412</td>\n",
       "      <td>-0.704846</td>\n",
       "      <td>1.000000</td>\n",
       "    </tr>\n",
       "  </tbody>\n",
       "</table>\n",
       "</div>"
      ],
      "text/plain": [
       "                       make  fuel-type  body-style  drive-wheels  \\\n",
       "make               1.000000  -0.119746    0.109203     -0.052044   \n",
       "fuel-type         -0.119746   1.000000   -0.146577     -0.143825   \n",
       "body-style         0.109203  -0.146577    1.000000     -0.149962   \n",
       "drive-wheels      -0.052044  -0.143825   -0.149962      1.000000   \n",
       "engine-location    0.057249   0.042490   -0.291270      0.154729   \n",
       "engine-type        0.010788   0.112181   -0.033920     -0.053643   \n",
       "symboling         -0.133413   0.194923   -0.584658     -0.055088   \n",
       "normalized-losses -0.272131   0.103625   -0.231156      0.278529   \n",
       "width             -0.013582  -0.238744    0.145147      0.470463   \n",
       "height             0.243751  -0.279480    0.574268     -0.016925   \n",
       "engine-size       -0.100960  -0.081435   -0.057853      0.518208   \n",
       "horsepower        -0.088873   0.154634   -0.144763      0.512652   \n",
       "city-mpg           0.079432  -0.253782    0.015181     -0.448046   \n",
       "highway-mpg        0.075333  -0.185979   -0.024926     -0.450402   \n",
       "price             -0.173792  -0.115791   -0.065831      0.584485   \n",
       "\n",
       "                   engine-location  engine-type  symboling  normalized-losses  \\\n",
       "make                      0.057249     0.010788  -0.133413          -0.272131   \n",
       "fuel-type                 0.042490     0.112181   0.194923           0.103625   \n",
       "body-style               -0.291270    -0.033920  -0.584658          -0.231156   \n",
       "drive-wheels              0.154729    -0.053643  -0.055088           0.278529   \n",
       "engine-location           1.000000     0.116897   0.231375          -0.020356   \n",
       "engine-type               0.116897     1.000000   0.070345          -0.029446   \n",
       "symboling                 0.231375     0.070345   1.000000           0.442174   \n",
       "normalized-losses        -0.020356    -0.029446   0.442174           1.000000   \n",
       "width                    -0.051210     0.048240  -0.272388           0.039193   \n",
       "height                   -0.114057    -0.162899  -0.521495          -0.367588   \n",
       "engine-size               0.204366     0.109809  -0.153671           0.050839   \n",
       "horsepower                0.334518     0.101920   0.026640           0.146712   \n",
       "city-mpg                 -0.161467    -0.152574   0.007189          -0.182300   \n",
       "highway-mpg              -0.109265    -0.152407   0.084238          -0.139384   \n",
       "price                     0.333620     0.102758  -0.095905           0.089790   \n",
       "\n",
       "                      width    height  engine-size  horsepower  city-mpg  \\\n",
       "make              -0.013582  0.243751    -0.100960   -0.088873  0.079432   \n",
       "fuel-type         -0.238744 -0.279480    -0.081435    0.154634 -0.253782   \n",
       "body-style         0.145147  0.574268    -0.057853   -0.144763  0.015181   \n",
       "drive-wheels       0.470463 -0.016925     0.518208    0.512652 -0.448046   \n",
       "engine-location   -0.051210 -0.114057     0.204366    0.334518 -0.161467   \n",
       "engine-type        0.048240 -0.162899     0.109809    0.101920 -0.152574   \n",
       "symboling         -0.272388 -0.521495    -0.153671    0.026640  0.007189   \n",
       "normalized-losses  0.039193 -0.367588     0.050839    0.146712 -0.182300   \n",
       "width              1.000000  0.296011     0.735112    0.643063 -0.641401   \n",
       "height             0.296011  1.000000     0.096041   -0.077263 -0.078815   \n",
       "engine-size        0.735112  0.096041     1.000000    0.803449 -0.642711   \n",
       "horsepower         0.643063 -0.077263     0.803449    1.000000 -0.796130   \n",
       "city-mpg          -0.641401 -0.078815    -0.642711   -0.796130  1.000000   \n",
       "highway-mpg       -0.677911 -0.142926    -0.667078   -0.760884  0.970113   \n",
       "price              0.730503  0.147010     0.869638    0.769844 -0.680412   \n",
       "\n",
       "                   highway-mpg     price  \n",
       "make                  0.075333 -0.173792  \n",
       "fuel-type            -0.185979 -0.115791  \n",
       "body-style           -0.024926 -0.065831  \n",
       "drive-wheels         -0.450402  0.584485  \n",
       "engine-location      -0.109265  0.333620  \n",
       "engine-type          -0.152407  0.102758  \n",
       "symboling             0.084238 -0.095905  \n",
       "normalized-losses    -0.139384  0.089790  \n",
       "width                -0.677911  0.730503  \n",
       "height               -0.142926  0.147010  \n",
       "engine-size          -0.667078  0.869638  \n",
       "horsepower           -0.760884  0.769844  \n",
       "city-mpg              0.970113 -0.680412  \n",
       "highway-mpg           1.000000 -0.704846  \n",
       "price                -0.704846  1.000000  "
      ]
     },
     "execution_count": 54,
     "metadata": {},
     "output_type": "execute_result"
    }
   ],
   "source": [
    "newdf.corr()"
   ]
  },
  {
   "cell_type": "markdown",
   "metadata": {},
   "source": [
    "# Apply Basic Line Model - LinearRegression"
   ]
  },
  {
   "cell_type": "code",
   "execution_count": 55,
   "metadata": {},
   "outputs": [],
   "source": [
    "#separate Independant and Dependant features\n",
    "X=newdf.drop('price',axis=1)\n",
    "Y=newdf['price']"
   ]
  },
  {
   "cell_type": "code",
   "execution_count": 56,
   "metadata": {},
   "outputs": [],
   "source": [
    "from sklearn.model_selection import train_test_split\n",
    "from sklearn.linear_model import LinearRegression\n",
    "from sklearn.metrics import mean_squared_error,r2_score"
   ]
  },
  {
   "cell_type": "code",
   "execution_count": 57,
   "metadata": {},
   "outputs": [],
   "source": [
    "X_train,X_test,Y_train,Y_test=train_test_split(X,Y,test_size=0.3,random_state=1)"
   ]
  },
  {
   "cell_type": "code",
   "execution_count": 58,
   "metadata": {},
   "outputs": [
    {
     "data": {
      "text/plain": [
       "LinearRegression()"
      ]
     },
     "execution_count": 58,
     "metadata": {},
     "output_type": "execute_result"
    }
   ],
   "source": [
    "lr=LinearRegression()\n",
    "lr.fit(X_train,Y_train)"
   ]
  },
  {
   "cell_type": "code",
   "execution_count": 59,
   "metadata": {},
   "outputs": [],
   "source": [
    "Y_predict=lr.predict(X_test)"
   ]
  },
  {
   "cell_type": "code",
   "execution_count": 60,
   "metadata": {},
   "outputs": [
    {
     "name": "stdout",
     "output_type": "stream",
     "text": [
      "0.25640756972584816\n"
     ]
    }
   ],
   "source": [
    "mse=mean_squared_error(Y_test,Y_predict)\n",
    "print(mse)"
   ]
  },
  {
   "cell_type": "code",
   "execution_count": 61,
   "metadata": {},
   "outputs": [
    {
     "name": "stdout",
     "output_type": "stream",
     "text": [
      "Train score =  0.8951180753657108\n",
      "Test score =  0.7976598465335488\n"
     ]
    }
   ],
   "source": [
    "print('Train score = ',lr.score(X_train,Y_train))\n",
    "print('Test score = ',lr.score(X_test,Y_test))"
   ]
  },
  {
   "cell_type": "code",
   "execution_count": 62,
   "metadata": {},
   "outputs": [
    {
     "name": "stdout",
     "output_type": "stream",
     "text": [
      "['make']\n",
      "Train score =  0.02300034027034137\n",
      "Test score =  0.020511675151937525\n",
      "\n",
      "['make', 'fuel-type']\n",
      "Train score =  0.03629032168275459\n",
      "Test score =  0.04634700547958159\n",
      "\n",
      "['make', 'fuel-type', 'body-style']\n",
      "Train score =  0.037674679107859155\n",
      "Test score =  0.02881562894894807\n",
      "\n",
      "['make', 'fuel-type', 'body-style', 'drive-wheels']\n",
      "Train score =  0.342155679034465\n",
      "Test score =  0.35938460504916614\n",
      "\n",
      "['make', 'fuel-type', 'body-style', 'drive-wheels', 'engine-location']\n",
      "Train score =  0.3876486045460429\n",
      "Test score =  0.5090845278584566\n",
      "\n",
      "['make', 'fuel-type', 'body-style', 'drive-wheels', 'engine-location', 'engine-type']\n",
      "Train score =  0.40601363224657316\n",
      "Test score =  0.5102963727717624\n",
      "\n",
      "['make', 'fuel-type', 'body-style', 'drive-wheels', 'engine-location', 'engine-type', 'symboling']\n",
      "Train score =  0.41604421155323645\n",
      "Test score =  0.5266981435396589\n",
      "\n",
      "['make', 'fuel-type', 'body-style', 'drive-wheels', 'engine-location', 'engine-type', 'symboling', 'normalized-losses']\n",
      "Train score =  0.4170348733301559\n",
      "Test score =  0.5276251251075179\n",
      "\n",
      "['make', 'fuel-type', 'body-style', 'drive-wheels', 'engine-location', 'engine-type', 'symboling', 'normalized-losses', 'width']\n",
      "Train score =  0.760837131965804\n",
      "Test score =  0.7100198584796094\n",
      "\n",
      "['make', 'fuel-type', 'body-style', 'drive-wheels', 'engine-location', 'engine-type', 'symboling', 'normalized-losses', 'width', 'height']\n",
      "Train score =  0.7668764184842672\n",
      "Test score =  0.7152260150382987\n",
      "\n",
      "['make', 'fuel-type', 'body-style', 'drive-wheels', 'engine-location', 'engine-type', 'symboling', 'normalized-losses', 'width', 'height', 'engine-size']\n",
      "Train score =  0.8867443781351418\n",
      "Test score =  0.7910183810265683\n",
      "\n",
      "['make', 'fuel-type', 'body-style', 'drive-wheels', 'engine-location', 'engine-type', 'symboling', 'normalized-losses', 'width', 'height', 'engine-size', 'horsepower']\n",
      "Train score =  0.8921439995908454\n",
      "Test score =  0.7799578694817051\n",
      "\n",
      "['make', 'fuel-type', 'body-style', 'drive-wheels', 'engine-location', 'engine-type', 'symboling', 'normalized-losses', 'width', 'height', 'engine-size', 'horsepower', 'city-mpg']\n",
      "Train score =  0.8939969406334959\n",
      "Test score =  0.789752610905543\n",
      "\n",
      "['make', 'fuel-type', 'body-style', 'drive-wheels', 'engine-location', 'engine-type', 'symboling', 'normalized-losses', 'width', 'height', 'engine-size', 'horsepower', 'city-mpg', 'highway-mpg']\n",
      "Train score =  0.8951180753657108\n",
      "Test score =  0.7976598465335488\n",
      "\n",
      "['make', 'fuel-type', 'body-style', 'drive-wheels', 'engine-location', 'engine-type', 'symboling', 'normalized-losses', 'width', 'height', 'engine-size', 'horsepower', 'city-mpg', 'highway-mpg', 'price']\n",
      "Train score =  1.0\n",
      "Test score =  1.0\n",
      "\n"
     ]
    }
   ],
   "source": [
    "# Use Wrapper Method - Forward and Backward\n",
    "#Forward Method\n",
    "col=[]\n",
    "for i in newdf:\n",
    "    col.append(i)\n",
    "    print(col)\n",
    "    X=newdf[col]\n",
    "    Y=newdf['price']\n",
    "    X_train,X_test,Y_train,Y_test=train_test_split(X,Y,test_size=0.3,random_state=1)\n",
    "    lr=LinearRegression()\n",
    "    lr.fit(X_train,Y_train)\n",
    "    print('Train score = ',lr.score(X_train,Y_train))\n",
    "    print('Test score = ',lr.score(X_test,Y_test))\n",
    "    print()"
   ]
  },
  {
   "cell_type": "code",
   "execution_count": 63,
   "metadata": {},
   "outputs": [
    {
     "name": "stdout",
     "output_type": "stream",
     "text": [
      "['make', 'fuel-type', 'body-style', 'drive-wheels', 'engine-location', 'engine-type', 'symboling', 'normalized-losses', 'width', 'height', 'engine-size', 'horsepower', 'city-mpg', 'highway-mpg']\n",
      "Train score =  0.8951180753657108\n",
      "Test score =  0.7976598465335488\n",
      "\n",
      "['fuel-type', 'body-style', 'drive-wheels', 'engine-location', 'engine-type', 'symboling', 'normalized-losses', 'width', 'height', 'engine-size', 'horsepower', 'city-mpg', 'highway-mpg']\n",
      "Train score =  0.8848720930553201\n",
      "Test score =  0.7708024066699424\n",
      "\n",
      "['body-style', 'drive-wheels', 'engine-location', 'engine-type', 'symboling', 'normalized-losses', 'width', 'height', 'engine-size', 'horsepower', 'city-mpg', 'highway-mpg']\n",
      "Train score =  0.8833696889514531\n",
      "Test score =  0.7690704769551141\n",
      "\n",
      "['drive-wheels', 'engine-location', 'engine-type', 'symboling', 'normalized-losses', 'width', 'height', 'engine-size', 'horsepower', 'city-mpg', 'highway-mpg']\n",
      "Train score =  0.883166705722877\n",
      "Test score =  0.770021185190616\n",
      "\n",
      "['engine-location', 'engine-type', 'symboling', 'normalized-losses', 'width', 'height', 'engine-size', 'horsepower', 'city-mpg', 'highway-mpg']\n",
      "Train score =  0.8750352769343989\n",
      "Test score =  0.7585408241584632\n",
      "\n",
      "['engine-type', 'symboling', 'normalized-losses', 'width', 'height', 'engine-size', 'horsepower', 'city-mpg', 'highway-mpg']\n",
      "Train score =  0.8571544243485005\n",
      "Test score =  0.6902059854261583\n",
      "\n",
      "['symboling', 'normalized-losses', 'width', 'height', 'engine-size', 'horsepower', 'city-mpg', 'highway-mpg']\n",
      "Train score =  0.8568151701204729\n",
      "Test score =  0.6929018296774284\n",
      "\n",
      "['normalized-losses', 'width', 'height', 'engine-size', 'horsepower', 'city-mpg', 'highway-mpg']\n",
      "Train score =  0.8533997684020453\n",
      "Test score =  0.6851469620155457\n",
      "\n",
      "['width', 'height', 'engine-size', 'horsepower', 'city-mpg', 'highway-mpg']\n",
      "Train score =  0.8511432013450166\n",
      "Test score =  0.6834490727084512\n",
      "\n",
      "['height', 'engine-size', 'horsepower', 'city-mpg', 'highway-mpg']\n",
      "Train score =  0.8377518005127444\n",
      "Test score =  0.7002377844573606\n",
      "\n",
      "['engine-size', 'horsepower', 'city-mpg', 'highway-mpg']\n",
      "Train score =  0.8234206566137621\n",
      "Test score =  0.7198395658182636\n",
      "\n",
      "['horsepower', 'city-mpg', 'highway-mpg']\n",
      "Train score =  0.6856240360643571\n",
      "Test score =  0.585558378596061\n",
      "\n",
      "['city-mpg', 'highway-mpg']\n",
      "Train score =  0.5292980684389874\n",
      "Test score =  0.4321203266219732\n",
      "\n",
      "['highway-mpg']\n",
      "Train score =  0.5261556110936398\n",
      "Test score =  0.441760655244433\n",
      "\n"
     ]
    }
   ],
   "source": [
    "#Backward Method\n",
    "col=newdf.drop('price',axis=1)\n",
    "col=list(col.columns)\n",
    "n=len(col)\n",
    "for i in range(n):\n",
    "    print(col)\n",
    "    X=newdf[col]\n",
    "    Y=newdf['price']\n",
    "    X_train,X_test,Y_train,Y_test=train_test_split(X,Y,test_size=0.3,random_state=1)\n",
    "    lr=LinearRegression()\n",
    "    lr.fit(X_train,Y_train)\n",
    "    print('Train score = ',lr.score(X_train,Y_train))\n",
    "    print('Test score = ',lr.score(X_test,Y_test))\n",
    "    del col[0]\n",
    "    print()    "
   ]
  },
  {
   "cell_type": "code",
   "execution_count": 64,
   "metadata": {},
   "outputs": [],
   "source": [
    "# As per above analysis important features are 'engine-size','highway-mpg','engine-location','drive-wheels','make','width'"
   ]
  },
  {
   "cell_type": "code",
   "execution_count": 65,
   "metadata": {},
   "outputs": [],
   "source": [
    "#Use Feature Selection Technique - to create \"area\" feature by multiply width and height\n",
    "newdf['area']=newdf['width']*newdf['height']"
   ]
  },
  {
   "cell_type": "code",
   "execution_count": 66,
   "metadata": {},
   "outputs": [
    {
     "name": "stdout",
     "output_type": "stream",
     "text": [
      "Train score =  0.860618198691484\n",
      "Test score =  0.8154306178887666\n"
     ]
    }
   ],
   "source": [
    "X=newdf[['engine-size','highway-mpg','engine-location','drive-wheels','make','area']]\n",
    "Y=newdf['price']\n",
    "X_train,X_test,Y_train,Y_test=train_test_split(X,Y,test_size=0.3,random_state=1)\n",
    "lr=LinearRegression()\n",
    "lr.fit(X_train,Y_train)\n",
    "print('Train score = ',lr.score(X_train,Y_train))\n",
    "print('Test score = ',lr.score(X_test,Y_test))\n",
    "Y_predict=lr.predict(X_test)"
   ]
  },
  {
   "cell_type": "code",
   "execution_count": 67,
   "metadata": {},
   "outputs": [],
   "source": [
    "mse=mean_squared_error(Y_test,Y_predict)"
   ]
  },
  {
   "cell_type": "code",
   "execution_count": 68,
   "metadata": {},
   "outputs": [
    {
     "name": "stdout",
     "output_type": "stream",
     "text": [
      "MSE= 0.23388826143590655\n"
     ]
    }
   ],
   "source": [
    "print(\"MSE=\",mse)"
   ]
  },
  {
   "cell_type": "code",
   "execution_count": 69,
   "metadata": {},
   "outputs": [
    {
     "data": {
      "text/plain": [
       "'\\nTrain score =  0.860618198691484\\nTest score =  0.8154306178887666\\n\\n'"
      ]
     },
     "execution_count": 69,
     "metadata": {},
     "output_type": "execute_result"
    }
   ],
   "source": [
    "'''\n",
    "Train score =  0.860618198691484\n",
    "Test score =  0.8154306178887666\n",
    "\n",
    "'''"
   ]
  }
 ],
 "metadata": {
  "kernelspec": {
   "display_name": "Python 3",
   "language": "python",
   "name": "python3"
  },
  "language_info": {
   "codemirror_mode": {
    "name": "ipython",
    "version": 3
   },
   "file_extension": ".py",
   "mimetype": "text/x-python",
   "name": "python",
   "nbconvert_exporter": "python",
   "pygments_lexer": "ipython3",
   "version": "3.8.3"
  }
 },
 "nbformat": 4,
 "nbformat_minor": 4
}
